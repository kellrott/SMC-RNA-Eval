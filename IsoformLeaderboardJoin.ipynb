{
 "cells": [
  {
   "cell_type": "code",
   "execution_count": 1,
   "metadata": {},
   "outputs": [
    {
     "name": "stderr",
     "output_type": "stream",
     "text": [
      "/usr/lib/python3.6/importlib/_bootstrap.py:219: RuntimeWarning: numpy.dtype size changed, may indicate binary incompatibility. Expected 96, got 88\n",
      "  return f(*args, **kwds)\n",
      "/usr/lib/python3.6/importlib/_bootstrap.py:219: RuntimeWarning: numpy.dtype size changed, may indicate binary incompatibility. Expected 96, got 88\n",
      "  return f(*args, **kwds)\n"
     ]
    }
   ],
   "source": [
    "import csv\n",
    "import pandas"
   ]
  },
  {
   "cell_type": "code",
   "execution_count": 2,
   "metadata": {},
   "outputs": [],
   "source": [
    "scores = pandas.read_table(\"results/Isoform Expression Ranking - Final Bootstrap Ranking.tsv\").set_index(\"Group\")"
   ]
  },
  {
   "cell_type": "code",
   "execution_count": 3,
   "metadata": {},
   "outputs": [],
   "source": [
    "adminTeam = {\"jeltje\" : \"SMC-Admin\", \"kellrott\" : \"SMC-Admin\"}"
   ]
  },
  {
   "cell_type": "code",
   "execution_count": 4,
   "metadata": {},
   "outputs": [],
   "source": [
    "scores.ID = scores.ID.replace(adminTeam)"
   ]
  },
  {
   "cell_type": "code",
   "execution_count": 5,
   "metadata": {},
   "outputs": [],
   "source": [
    "entries = pandas.read_table(\"isoform.list\").set_index(\"EntryID\")"
   ]
  },
  {
   "cell_type": "code",
   "execution_count": 6,
   "metadata": {},
   "outputs": [],
   "source": [
    "leaderboard = scores.join(entries[\"EntryName\"])"
   ]
  },
  {
   "cell_type": "code",
   "execution_count": 7,
   "metadata": {},
   "outputs": [
    {
     "data": {
      "text/plain": [
       "array(['tutankhamun@synapse.org', 'zhanghj@synapse.org',\n",
       "       'bhaas@synapse.org', 'Ginny@synapse.org', 'linuxpham@synapse.org',\n",
       "       'kellrott@synapse.org', 'genomehacker@synapse.org',\n",
       "       'jeltje@synapse.org', 'thucmi@synapse.org', 'rbierman@synapse.org'],\n",
       "      dtype=object)"
      ]
     },
     "execution_count": 7,
     "metadata": {},
     "output_type": "execute_result"
    }
   ],
   "source": [
    "entries.Email.unique()"
   ]
  },
  {
   "cell_type": "code",
   "execution_count": 8,
   "metadata": {},
   "outputs": [
    {
     "data": {
      "text/plain": [
       "array(['SMC-Admin', 'zhanghj', 'bhaas', 'bioturing.rna.team'],\n",
       "      dtype=object)"
      ]
     },
     "execution_count": 8,
     "metadata": {},
     "output_type": "execute_result"
    }
   ],
   "source": [
    "leaderboard.ID.unique()"
   ]
  },
  {
   "cell_type": "code",
   "execution_count": 9,
   "metadata": {},
   "outputs": [
    {
     "data": {
      "text/html": [
       "<div>\n",
       "<style scoped>\n",
       "    .dataframe tbody tr th:only-of-type {\n",
       "        vertical-align: middle;\n",
       "    }\n",
       "\n",
       "    .dataframe tbody tr th {\n",
       "        vertical-align: top;\n",
       "    }\n",
       "\n",
       "    .dataframe thead th {\n",
       "        text-align: right;\n",
       "    }\n",
       "</style>\n",
       "<table border=\"1\" class=\"dataframe\">\n",
       "  <thead>\n",
       "    <tr style=\"text-align: right;\">\n",
       "      <th></th>\n",
       "      <th>ID</th>\n",
       "      <th>Method</th>\n",
       "      <th>Ranking</th>\n",
       "      <th>Mean Tau B</th>\n",
       "      <th>Bootstrap P-value</th>\n",
       "      <th>EntryName</th>\n",
       "    </tr>\n",
       "    <tr>\n",
       "      <th>Group</th>\n",
       "      <th></th>\n",
       "      <th></th>\n",
       "      <th></th>\n",
       "      <th></th>\n",
       "      <th></th>\n",
       "      <th></th>\n",
       "    </tr>\n",
       "  </thead>\n",
       "  <tbody>\n",
       "    <tr>\n",
       "      <th>8473425</th>\n",
       "      <td>SMC-Admin</td>\n",
       "      <td>salmon</td>\n",
       "      <td>1</td>\n",
       "      <td>0.863537</td>\n",
       "      <td>NaN</td>\n",
       "      <td>Salmon</td>\n",
       "    </tr>\n",
       "    <tr>\n",
       "      <th>9604426</th>\n",
       "      <td>SMC-Admin</td>\n",
       "      <td>salmon</td>\n",
       "      <td>2</td>\n",
       "      <td>0.863536</td>\n",
       "      <td>0.46</td>\n",
       "      <td>salmon01</td>\n",
       "    </tr>\n",
       "    <tr>\n",
       "      <th>9603865</th>\n",
       "      <td>SMC-Admin</td>\n",
       "      <td>kallisto</td>\n",
       "      <td>3</td>\n",
       "      <td>0.862952</td>\n",
       "      <td>0.043</td>\n",
       "      <td>kallisto02</td>\n",
       "    </tr>\n",
       "    <tr>\n",
       "      <th>8639902</th>\n",
       "      <td>zhanghj</td>\n",
       "      <td>kallisto</td>\n",
       "      <td>4</td>\n",
       "      <td>0.857986</td>\n",
       "      <td>&lt;2.2e-16</td>\n",
       "      <td>Romeo</td>\n",
       "    </tr>\n",
       "    <tr>\n",
       "      <th>9609594</th>\n",
       "      <td>zhanghj</td>\n",
       "      <td>kallisto</td>\n",
       "      <td>5</td>\n",
       "      <td>0.857986</td>\n",
       "      <td>0.94</td>\n",
       "      <td>Romeo30</td>\n",
       "    </tr>\n",
       "    <tr>\n",
       "      <th>9609496</th>\n",
       "      <td>bhaas</td>\n",
       "      <td>rsem</td>\n",
       "      <td>6</td>\n",
       "      <td>0.857301</td>\n",
       "      <td>0.087</td>\n",
       "      <td>smcIsoform.Winterfell.rsem_no_rspd.May11.packe...</td>\n",
       "    </tr>\n",
       "    <tr>\n",
       "      <th>9605357</th>\n",
       "      <td>SMC-Admin</td>\n",
       "      <td>rsem</td>\n",
       "      <td>7</td>\n",
       "      <td>0.857111</td>\n",
       "      <td>0.021</td>\n",
       "      <td>rsem01</td>\n",
       "    </tr>\n",
       "    <tr>\n",
       "      <th>8639678</th>\n",
       "      <td>bhaas</td>\n",
       "      <td>rsem</td>\n",
       "      <td>8</td>\n",
       "      <td>0.856811</td>\n",
       "      <td>0.17</td>\n",
       "      <td>smcIsoform.Winterfell.rsemGCbias.packed.cwl</td>\n",
       "    </tr>\n",
       "    <tr>\n",
       "      <th>9609145</th>\n",
       "      <td>bioturing.rna.team</td>\n",
       "      <td>hera</td>\n",
       "      <td>9</td>\n",
       "      <td>0.856534</td>\n",
       "      <td>0.0025</td>\n",
       "      <td>smcIsoform_Hera_workflow_1494489243_merged.cwl</td>\n",
       "    </tr>\n",
       "    <tr>\n",
       "      <th>9609501</th>\n",
       "      <td>bioturing.rna.team</td>\n",
       "      <td>hera</td>\n",
       "      <td>10</td>\n",
       "      <td>0.856534</td>\n",
       "      <td>0.22</td>\n",
       "      <td>smcIsoform_Hera_workflow_1494585626_merged.cwl</td>\n",
       "    </tr>\n",
       "    <tr>\n",
       "      <th>8066038</th>\n",
       "      <td>bioturing.rna.team</td>\n",
       "      <td>hera</td>\n",
       "      <td>11</td>\n",
       "      <td>0.855950</td>\n",
       "      <td>0.08</td>\n",
       "      <td>smcIsoform_Hera_workflow_1485267086_merged.cwl</td>\n",
       "    </tr>\n",
       "    <tr>\n",
       "      <th>9609644</th>\n",
       "      <td>zhanghj</td>\n",
       "      <td>kallisto</td>\n",
       "      <td>12</td>\n",
       "      <td>0.855381</td>\n",
       "      <td>0.013</td>\n",
       "      <td>Seekmer</td>\n",
       "    </tr>\n",
       "    <tr>\n",
       "      <th>9609497</th>\n",
       "      <td>bhaas</td>\n",
       "      <td>rsem</td>\n",
       "      <td>13</td>\n",
       "      <td>0.855353</td>\n",
       "      <td>0.85</td>\n",
       "      <td>smcIsoform.Winterfell.rsemGibbs.May11.packed.cwl</td>\n",
       "    </tr>\n",
       "    <tr>\n",
       "      <th>9604399</th>\n",
       "      <td>SMC-Admin</td>\n",
       "      <td>express</td>\n",
       "      <td>14</td>\n",
       "      <td>0.854771</td>\n",
       "      <td>0.1</td>\n",
       "      <td>eXpress02</td>\n",
       "    </tr>\n",
       "    <tr>\n",
       "      <th>9605360</th>\n",
       "      <td>SMC-Admin</td>\n",
       "      <td>cufflinks</td>\n",
       "      <td>15</td>\n",
       "      <td>0.828836</td>\n",
       "      <td>&lt;2.2e-16</td>\n",
       "      <td>cufflinks01</td>\n",
       "    </tr>\n",
       "    <tr>\n",
       "      <th>9610378</th>\n",
       "      <td>SMC-Admin</td>\n",
       "      <td>fluxcapacitor</td>\n",
       "      <td>16</td>\n",
       "      <td>0.692419</td>\n",
       "      <td>&lt;2.2e-16</td>\n",
       "      <td>fluxcapacitor01</td>\n",
       "    </tr>\n",
       "  </tbody>\n",
       "</table>\n",
       "</div>"
      ],
      "text/plain": [
       "                         ID         Method  Ranking  Mean Tau B  \\\n",
       "Group                                                             \n",
       "8473425           SMC-Admin         salmon        1    0.863537   \n",
       "9604426           SMC-Admin         salmon        2    0.863536   \n",
       "9603865           SMC-Admin       kallisto        3    0.862952   \n",
       "8639902             zhanghj       kallisto        4    0.857986   \n",
       "9609594             zhanghj       kallisto        5    0.857986   \n",
       "9609496               bhaas           rsem        6    0.857301   \n",
       "9605357           SMC-Admin           rsem        7    0.857111   \n",
       "8639678               bhaas           rsem        8    0.856811   \n",
       "9609145  bioturing.rna.team           hera        9    0.856534   \n",
       "9609501  bioturing.rna.team           hera       10    0.856534   \n",
       "8066038  bioturing.rna.team           hera       11    0.855950   \n",
       "9609644             zhanghj       kallisto       12    0.855381   \n",
       "9609497               bhaas           rsem       13    0.855353   \n",
       "9604399           SMC-Admin        express       14    0.854771   \n",
       "9605360           SMC-Admin      cufflinks       15    0.828836   \n",
       "9610378           SMC-Admin  fluxcapacitor       16    0.692419   \n",
       "\n",
       "        Bootstrap P-value                                          EntryName  \n",
       "Group                                                                         \n",
       "8473425               NaN                                             Salmon  \n",
       "9604426              0.46                                           salmon01  \n",
       "9603865             0.043                                         kallisto02  \n",
       "8639902          <2.2e-16                                              Romeo  \n",
       "9609594              0.94                                            Romeo30  \n",
       "9609496             0.087  smcIsoform.Winterfell.rsem_no_rspd.May11.packe...  \n",
       "9605357             0.021                                             rsem01  \n",
       "8639678              0.17        smcIsoform.Winterfell.rsemGCbias.packed.cwl  \n",
       "9609145            0.0025     smcIsoform_Hera_workflow_1494489243_merged.cwl  \n",
       "9609501              0.22     smcIsoform_Hera_workflow_1494585626_merged.cwl  \n",
       "8066038              0.08     smcIsoform_Hera_workflow_1485267086_merged.cwl  \n",
       "9609644             0.013                                            Seekmer  \n",
       "9609497              0.85   smcIsoform.Winterfell.rsemGibbs.May11.packed.cwl  \n",
       "9604399               0.1                                          eXpress02  \n",
       "9605360          <2.2e-16                                        cufflinks01  \n",
       "9610378          <2.2e-16                                    fluxcapacitor01  "
      ]
     },
     "execution_count": 9,
     "metadata": {},
     "output_type": "execute_result"
    }
   ],
   "source": [
    "leaderboard"
   ]
  },
  {
   "cell_type": "code",
   "execution_count": 10,
   "metadata": {},
   "outputs": [],
   "source": [
    "leaderboard.to_csv(\"isoform_combined_leaderboard.tsv\", sep=\"\\t\")"
   ]
  },
  {
   "cell_type": "code",
   "execution_count": null,
   "metadata": {},
   "outputs": [],
   "source": []
  }
 ],
 "metadata": {
  "kernelspec": {
   "display_name": "Python 3",
   "language": "python",
   "name": "python3"
  },
  "language_info": {
   "codemirror_mode": {
    "name": "ipython",
    "version": 3
   },
   "file_extension": ".py",
   "mimetype": "text/x-python",
   "name": "python",
   "nbconvert_exporter": "python",
   "pygments_lexer": "ipython3",
   "version": "3.6.5"
  }
 },
 "nbformat": 4,
 "nbformat_minor": 2
}
