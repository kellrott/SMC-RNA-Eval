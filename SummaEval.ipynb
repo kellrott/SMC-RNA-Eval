{
 "cells": [
  {
   "cell_type": "code",
   "execution_count": 17,
   "metadata": {},
   "outputs": [],
   "source": [
    "import os\n",
    "import gzip\n",
    "import json\n",
    "from glob import glob\n",
    "import matplotlib.pyplot as plt"
   ]
  },
  {
   "cell_type": "code",
   "execution_count": 3,
   "metadata": {},
   "outputs": [],
   "source": [
    "DIR=\"smc-rna-analysis\""
   ]
  },
  {
   "cell_type": "code",
   "execution_count": 6,
   "metadata": {},
   "outputs": [],
   "source": [
    "files = glob(os.path.join(DIR,\"*.json.gz\"))"
   ]
  },
  {
   "cell_type": "code",
   "execution_count": 8,
   "metadata": {},
   "outputs": [
    {
     "name": "stdout",
     "output_type": "stream",
     "text": [
      "dict_keys(['negCount', 'fp', 'tp', 'fn', 'thresholds', 'weights', 'posCount', 'tn'])\n",
      "dict_keys(['negCount', 'fp', 'tp', 'fn', 'thresholds', 'weights', 'posCount', 'tn'])\n",
      "dict_keys(['negCount', 'fp', 'tp', 'fn', 'thresholds', 'weights', 'posCount', 'tn'])\n",
      "dict_keys(['negCount', 'fp', 'tp', 'fn', 'thresholds', 'weights', 'posCount', 'tn'])\n",
      "dict_keys(['negCount', 'fp', 'tp', 'fn', 'thresholds', 'weights', 'posCount', 'tn'])\n",
      "dict_keys(['negCount', 'fp', 'tp', 'fn', 'thresholds', 'weights', 'posCount', 'tn'])\n",
      "dict_keys(['negCount', 'fp', 'tp', 'fn', 'thresholds', 'weights', 'posCount', 'tn'])\n",
      "dict_keys(['negCount', 'fp', 'tp', 'fn', 'thresholds', 'weights', 'posCount', 'tn'])\n",
      "dict_keys(['negCount', 'fp', 'tp', 'fn', 'thresholds', 'weights', 'posCount', 'tn'])\n",
      "dict_keys(['negCount', 'fp', 'tp', 'fn', 'thresholds', 'weights', 'posCount', 'tn'])\n",
      "dict_keys(['negCount', 'fp', 'tp', 'fn', 'thresholds', 'weights', 'posCount', 'tn'])\n",
      "dict_keys(['negCount', 'fp', 'tp', 'fn', 'thresholds', 'weights', 'posCount', 'tn'])\n",
      "dict_keys(['negCount', 'fp', 'tp', 'fn', 'thresholds', 'weights', 'posCount', 'tn'])\n",
      "dict_keys(['negCount', 'fp', 'tp', 'fn', 'thresholds', 'weights', 'posCount', 'tn'])\n",
      "dict_keys(['negCount', 'fp', 'tp', 'fn', 'thresholds', 'weights', 'posCount', 'tn'])\n",
      "dict_keys(['negCount', 'fp', 'tp', 'fn', 'thresholds', 'weights', 'posCount', 'tn'])\n",
      "dict_keys(['negCount', 'fp', 'tp', 'fn', 'thresholds', 'weights', 'posCount', 'tn'])\n",
      "dict_keys(['negCount', 'fp', 'tp', 'fn', 'thresholds', 'weights', 'posCount', 'tn'])\n",
      "dict_keys(['negCount', 'fp', 'tp', 'fn', 'thresholds', 'weights', 'posCount', 'tn'])\n",
      "dict_keys(['negCount', 'fp', 'tp', 'fn', 'thresholds', 'weights', 'posCount', 'tn'])\n",
      "dict_keys(['negCount', 'fp', 'tp', 'fn', 'thresholds', 'weights', 'posCount', 'tn'])\n",
      "dict_keys(['negCount', 'fp', 'tp', 'fn', 'thresholds', 'weights', 'posCount', 'tn'])\n",
      "dict_keys(['negCount', 'fp', 'tp', 'fn', 'thresholds', 'weights', 'posCount', 'tn'])\n",
      "dict_keys(['negCount', 'fp', 'tp', 'fn', 'thresholds', 'weights', 'posCount', 'tn'])\n",
      "dict_keys(['negCount', 'fp', 'tp', 'fn', 'thresholds', 'weights', 'posCount', 'tn'])\n",
      "dict_keys(['negCount', 'fp', 'tp', 'fn', 'thresholds', 'weights', 'posCount', 'tn'])\n",
      "dict_keys(['negCount', 'fp', 'tp', 'fn', 'thresholds', 'weights', 'posCount', 'tn'])\n",
      "dict_keys(['negCount', 'fp', 'tp', 'fn', 'thresholds', 'weights', 'posCount', 'tn'])\n",
      "dict_keys(['negCount', 'fp', 'tp', 'fn', 'thresholds', 'weights', 'posCount', 'tn'])\n",
      "dict_keys(['negCount', 'fp', 'tp', 'fn', 'thresholds', 'weights', 'posCount', 'tn'])\n",
      "dict_keys(['negCount', 'fp', 'tp', 'fn', 'thresholds', 'weights', 'posCount', 'tn'])\n",
      "dict_keys(['negCount', 'fp', 'tp', 'fn', 'thresholds', 'weights', 'posCount', 'tn'])\n",
      "dict_keys(['negCount', 'fp', 'tp', 'fn', 'thresholds', 'weights', 'posCount', 'tn'])\n",
      "dict_keys(['negCount', 'fp', 'tp', 'fn', 'thresholds', 'weights', 'posCount', 'tn'])\n",
      "dict_keys(['negCount', 'fp', 'tp', 'fn', 'thresholds', 'weights', 'posCount', 'tn'])\n",
      "dict_keys(['negCount', 'fp', 'tp', 'fn', 'thresholds', 'weights', 'posCount', 'tn'])\n",
      "dict_keys(['negCount', 'fp', 'tp', 'fn', 'thresholds', 'weights', 'posCount', 'tn'])\n",
      "dict_keys(['negCount', 'fp', 'tp', 'fn', 'thresholds', 'weights', 'posCount', 'tn'])\n",
      "dict_keys(['negCount', 'fp', 'tp', 'fn', 'thresholds', 'weights', 'posCount', 'tn'])\n",
      "dict_keys(['negCount', 'fp', 'tp', 'fn', 'thresholds', 'weights', 'posCount', 'tn'])\n",
      "dict_keys(['negCount', 'fp', 'tp', 'fn', 'thresholds', 'weights', 'posCount', 'tn'])\n",
      "dict_keys(['negCount', 'fp', 'tp', 'fn', 'thresholds', 'weights', 'posCount', 'tn'])\n",
      "dict_keys(['negCount', 'fp', 'tp', 'fn', 'thresholds', 'weights', 'posCount', 'tn'])\n",
      "dict_keys(['negCount', 'fp', 'tp', 'fn', 'thresholds', 'weights', 'posCount', 'tn'])\n",
      "dict_keys(['negCount', 'fp', 'tp', 'fn', 'thresholds', 'weights', 'posCount', 'tn'])\n",
      "dict_keys(['negCount', 'fp', 'tp', 'fn', 'thresholds', 'weights', 'posCount', 'tn'])\n",
      "dict_keys(['negCount', 'fp', 'tp', 'fn', 'thresholds', 'weights', 'posCount', 'tn'])\n",
      "dict_keys(['negCount', 'fp', 'tp', 'fn', 'thresholds', 'weights', 'posCount', 'tn'])\n",
      "dict_keys(['negCount', 'fp', 'tp', 'fn', 'thresholds', 'weights', 'posCount', 'tn'])\n",
      "dict_keys(['negCount', 'fp', 'tp', 'fn', 'thresholds', 'weights', 'posCount', 'tn'])\n",
      "dict_keys(['negCount', 'fp', 'tp', 'fn', 'thresholds', 'weights', 'posCount', 'tn'])\n",
      "dict_keys(['negCount', 'fp', 'tp', 'fn', 'thresholds', 'weights', 'posCount', 'tn'])\n",
      "dict_keys(['negCount', 'fp', 'tp', 'fn', 'thresholds', 'weights', 'posCount', 'tn'])\n",
      "dict_keys(['negCount', 'fp', 'tp', 'fn', 'thresholds', 'weights', 'posCount', 'tn'])\n",
      "dict_keys(['negCount', 'fp', 'tp', 'fn', 'thresholds', 'weights', 'posCount', 'tn'])\n",
      "dict_keys(['negCount', 'fp', 'tp', 'fn', 'thresholds', 'weights', 'posCount', 'tn'])\n",
      "dict_keys(['negCount', 'fp', 'tp', 'fn', 'thresholds', 'weights', 'posCount', 'tn'])\n",
      "dict_keys(['negCount', 'fp', 'tp', 'fn', 'thresholds', 'weights', 'posCount', 'tn'])\n",
      "dict_keys(['negCount', 'fp', 'tp', 'fn', 'thresholds', 'weights', 'posCount', 'tn'])\n",
      "dict_keys(['negCount', 'fp', 'tp', 'fn', 'thresholds', 'weights', 'posCount', 'tn'])\n",
      "dict_keys(['negCount', 'fp', 'tp', 'fn', 'thresholds', 'weights', 'posCount', 'tn'])\n",
      "dict_keys(['negCount', 'fp', 'tp', 'fn', 'thresholds', 'weights', 'posCount', 'tn'])\n",
      "dict_keys(['negCount', 'fp', 'tp', 'fn', 'thresholds', 'weights', 'posCount', 'tn'])\n",
      "dict_keys(['negCount', 'fp', 'tp', 'fn', 'thresholds', 'weights', 'posCount', 'tn'])\n",
      "dict_keys(['negCount', 'fp', 'tp', 'fn', 'thresholds', 'weights', 'posCount', 'tn'])\n",
      "dict_keys(['negCount', 'fp', 'tp', 'fn', 'thresholds', 'weights', 'posCount', 'tn'])\n",
      "dict_keys(['negCount', 'fp', 'tp', 'fn', 'thresholds', 'weights', 'posCount', 'tn'])\n",
      "dict_keys(['negCount', 'fp', 'tp', 'fn', 'thresholds', 'weights', 'posCount', 'tn'])\n",
      "dict_keys(['negCount', 'fp', 'tp', 'fn', 'thresholds', 'weights', 'posCount', 'tn'])\n",
      "dict_keys(['negCount', 'fp', 'tp', 'fn', 'thresholds', 'weights', 'posCount', 'tn'])\n",
      "dict_keys(['negCount', 'fp', 'tp', 'fn', 'thresholds', 'weights', 'posCount', 'tn'])\n",
      "dict_keys(['negCount', 'fp', 'tp', 'fn', 'thresholds', 'weights', 'posCount', 'tn'])\n",
      "dict_keys(['negCount', 'fp', 'tp', 'fn', 'thresholds', 'weights', 'posCount', 'tn'])\n",
      "dict_keys(['negCount', 'fp', 'tp', 'fn', 'thresholds', 'weights', 'posCount', 'tn'])\n",
      "dict_keys(['negCount', 'fp', 'tp', 'fn', 'thresholds', 'weights', 'posCount', 'tn'])\n",
      "dict_keys(['negCount', 'fp', 'tp', 'fn', 'thresholds', 'weights', 'posCount', 'tn'])\n",
      "dict_keys(['negCount', 'fp', 'tp', 'fn', 'thresholds', 'weights', 'posCount', 'tn'])\n",
      "dict_keys(['negCount', 'fp', 'tp', 'fn', 'thresholds', 'weights', 'posCount', 'tn'])\n",
      "dict_keys(['negCount', 'fp', 'tp', 'fn', 'thresholds', 'weights', 'posCount', 'tn'])\n",
      "dict_keys(['negCount', 'fp', 'tp', 'fn', 'thresholds', 'weights', 'posCount', 'tn'])\n",
      "dict_keys(['negCount', 'fp', 'tp', 'fn', 'thresholds', 'weights', 'posCount', 'tn'])\n",
      "dict_keys(['negCount', 'fp', 'tp', 'fn', 'thresholds', 'weights', 'posCount', 'tn'])\n",
      "dict_keys(['negCount', 'fp', 'tp', 'fn', 'thresholds', 'weights', 'posCount', 'tn'])\n",
      "dict_keys(['negCount', 'fp', 'tp', 'fn', 'thresholds', 'weights', 'posCount', 'tn'])\n",
      "dict_keys(['negCount', 'fp', 'tp', 'fn', 'thresholds', 'weights', 'posCount', 'tn'])\n",
      "dict_keys(['negCount', 'fp', 'tp', 'fn', 'thresholds', 'weights', 'posCount', 'tn'])\n",
      "dict_keys(['negCount', 'fp', 'tp', 'fn', 'thresholds', 'weights', 'posCount', 'tn'])\n",
      "dict_keys(['negCount', 'fp', 'tp', 'fn', 'thresholds', 'weights', 'posCount', 'tn'])\n",
      "dict_keys(['negCount', 'fp', 'tp', 'fn', 'thresholds', 'weights', 'posCount', 'tn'])\n",
      "dict_keys(['negCount', 'fp', 'tp', 'fn', 'thresholds', 'weights', 'posCount', 'tn'])\n",
      "dict_keys(['negCount', 'fp', 'tp', 'fn', 'thresholds', 'weights', 'posCount', 'tn'])\n",
      "dict_keys(['negCount', 'fp', 'tp', 'fn', 'thresholds', 'weights', 'posCount', 'tn'])\n",
      "dict_keys(['negCount', 'fp', 'tp', 'fn', 'thresholds', 'weights', 'posCount', 'tn'])\n",
      "dict_keys(['negCount', 'fp', 'tp', 'fn', 'thresholds', 'weights', 'posCount', 'tn'])\n",
      "dict_keys(['negCount', 'fp', 'tp', 'fn', 'thresholds', 'weights', 'posCount', 'tn'])\n",
      "dict_keys(['negCount', 'fp', 'tp', 'fn', 'thresholds', 'weights', 'posCount', 'tn'])\n",
      "dict_keys(['negCount', 'fp', 'tp', 'fn', 'thresholds', 'weights', 'posCount', 'tn'])\n",
      "dict_keys(['negCount', 'fp', 'tp', 'fn', 'thresholds', 'weights', 'posCount', 'tn'])\n",
      "dict_keys(['negCount', 'fp', 'tp', 'fn', 'thresholds', 'weights', 'posCount', 'tn'])\n",
      "dict_keys(['negCount', 'fp', 'tp', 'fn', 'thresholds', 'weights', 'posCount', 'tn'])\n"
     ]
    }
   ],
   "source": [
    "path = files[0]\n",
    "with gzip.open(path) as handle:\n",
    "    for line in handle:\n",
    "        data = json.loads(line)\n",
    "        print(data.keys())"
   ]
  },
  {
   "cell_type": "code",
   "execution_count": 15,
   "metadata": {},
   "outputs": [],
   "source": [
    "entries = list(data['fp'].keys())"
   ]
  },
  {
   "cell_type": "code",
   "execution_count": 16,
   "metadata": {},
   "outputs": [
    {
     "data": {
      "text/plain": [
       "{-1.181974721749281: 102183,\n",
       " -1.1775457470322812: 102143,\n",
       " -1.173356391484817: 89959,\n",
       " -1.1730951710095543: 89955,\n",
       " -1.170483000603212: 89951,\n",
       " -1.1689274167678172: 89949,\n",
       " -1.1660540258862122: 89947,\n",
       " -1.1604180185735908: 89945,\n",
       " -1.1594880964483907: 89943,\n",
       " -1.157325117648492: 89940,\n",
       " -1.1528961429314921: 89939,\n",
       " -1.1398272366443014: 89936,\n",
       " -1.1357684144728017: 89935,\n",
       " -0.9974653436310853: 89934,\n",
       " -0.9870955751276984: 89494,\n",
       " -0.9826449991049715: 89014,\n",
       " -0.9803376151723949: 89013,\n",
       " -0.9794076930471947: 88988,\n",
       " -0.9690379245438079: 88987,\n",
       " -0.8454376712101954: 88986,\n",
       " -0.8434513040294742: 88140,\n",
       " -0.8412483156627313: 88137,\n",
       " -0.8390223293124744: 88136,\n",
       " -0.8388457176932971: 64695,\n",
       " -0.8383110503773499: 64693,\n",
       " -0.8368193409457314: 64692,\n",
       " -0.8345717532897474: 64691,\n",
       " -0.8344806173800736: 64689,\n",
       " -0.8273800206263049: 64688,\n",
       " -0.8209646787285838: 64687,\n",
       " -0.8207880671094063: 64686,\n",
       " -0.8180904209935607: 64672,\n",
       " -0.8143727252116854: 64671,\n",
       " -0.8136614462765608: 64670,\n",
       " -0.8121697368449423: 64668,\n",
       " -0.8070151717265024: 64667,\n",
       " -0.803660338650716: 64524,\n",
       " -0.789887443267812: 64523,\n",
       " -0.7652378391670229: 64522,\n",
       " -0.6653572678089996: 64521,\n",
       " -0.6589419259112784: 64112,\n",
       " -0.6567389375445356: 64076,\n",
       " -0.6549874993056126: 64075,\n",
       " -0.6485721574078915: 63582,\n",
       " -0.6482295393503092: 63494,\n",
       " -0.6472996172251089: 63447,\n",
       " -0.6437789633275821: 63445,\n",
       " -0.641814197452588: 63444,\n",
       " -0.6396112090858452: 63441,\n",
       " -0.6378597708469222: 63440,\n",
       " -0.6347668699218234: 63438,\n",
       " -0.6345748394043413: 63437,\n",
       " -0.6320893334437465: 63436,\n",
       " -0.6280089099665198: 63435,\n",
       " -0.6235799352495202: 63433,\n",
       " -0.6217195649403595: 63426,\n",
       " -0.6208822891336743: 63425,\n",
       " -0.619129359226793: 63423,\n",
       " -0.617639141463133: 63422,\n",
       " -0.6165171888204508: 63421,\n",
       " -0.6164533144166746: 63411,\n",
       " -0.6132101667461332: 63409,\n",
       " -0.6120882141034512: 63407,\n",
       " -0.6120666127977237: 63405,\n",
       " -0.6120027383939475: 63400,\n",
       " -0.610511028962329: 63399,\n",
       " -0.5069142534903888: 63398,\n",
       " -0.4822646493895996: 63291,\n",
       " -0.47490709590441677: 63290,\n",
       " -0.4748854945986895: 62890,\n",
       " -0.46849175400669557: 62889,\n",
       " -0.4622083421627261: 62873,\n",
       " -0.45777936744572645: 62872,\n",
       " -0.456849445320526: 62860,\n",
       " -0.45136402554800525: 62859,\n",
       " -0.4511874139288279: 62858,\n",
       " -0.4397217168618357: 62857,\n",
       " -0.4396956927827589: 62855,\n",
       " -0.437558738061937: 62854,\n",
       " -0.43312976334493736: 62850,\n",
       " -0.4311672610011479: 62845,\n",
       " -0.43043211722909147: 62844,\n",
       " -0.4287646630317139: 62841,\n",
       " -0.42671442144721616: 62840,\n",
       " -0.426067016915868: 62839,\n",
       " -0.4260031425120918: 62816,\n",
       " -0.42163804219886836: 62813,\n",
       " -0.4216164408931409: 62810,\n",
       " -0.3385234177198069: 62806,\n",
       " -0.3268338500891927: 62514,\n",
       " -0.3164640815858059: 62451,\n",
       " -0.3097061216305024: 62388,\n",
       " -0.3021842459884036: 62381,\n",
       " -0.14807324581522402: 62380,\n",
       " -0.13638367818460984: 62377,\n",
       " -0.1192559497259195: 62303,\n",
       " -0.11173407408382074: 62299,\n",
       " -0.09460634562513041: 62297,\n",
       " -0.0831146244790614: 62296,\n",
       " -0.0064153418977211385: 62295,\n",
       " -0.004428974716999738: 62292,\n",
       " 0.0: 62067,\n",
       " 2.160130572726425e-05: 44099,\n",
       " 0.002162978799898716: 44094,\n",
       " 0.004189355547464262: 44093,\n",
       " 0.00436510031322351: 44092,\n",
       " 0.004450576022727002: 44091,\n",
       " 0.00635623880079933: 43715,\n",
       " 0.006591953516898454: 43592,\n",
       " 0.0071266208328455444: 43590,\n",
       " 0.0085479387619877: 43584,\n",
       " 0.008618330264464: 43220,\n",
       " 0.014558994199216245: 43168,\n",
       " 0.014719730223401228: 43166,\n",
       " 0.01664699430720082: 42910,\n",
       " 0.01712772845869033: 42909,\n",
       " 0.01805765058389064: 42897,\n",
       " 0.01917030624612823: 40790,\n",
       " 0.020220629383789355: 40789,\n",
       " 0.021075969024200558: 40787,\n",
       " 0.02464960410078909: 39410,\n",
       " 0.02552654504692756: 39371,\n",
       " 0.02574605872315433: 39364,\n",
       " 0.03171235052985841: 39363,\n",
       " 0.031776224933634634: 39362,\n",
       " 0.03233801224005278: 39360,\n",
       " 0.03327850720143229: 39359,\n",
       " 0.03518537904258097: 35896,\n",
       " 0.04177733255947942: 35893,\n",
       " 0.04783750140064854: 35892,\n",
       " 0.18008040340119605: 35512,\n",
       " 0.18453097942392305: 32539,\n",
       " 0.18602119718758311: 32538,\n",
       " 0.1866723569180945: 32537,\n",
       " 0.19045017190458285: 32536,\n",
       " 0.1970421254214813: 25834,\n",
       " 0.1972081318598864: 25833,\n",
       " 0.1981380539850867: 25621,\n",
       " 0.20380008537678485: 25594,\n",
       " 0.20473000750198514: 25592,\n",
       " 0.20742765361783097: 25585,\n",
       " 0.20757790036327317: 25584,\n",
       " 0.2085078224884735: 25582,\n",
       " 0.2106708012883722: 25578,\n",
       " 0.2124184156412488: 25577,\n",
       " 0.21509977600537195: 25576,\n",
       " 0.21526578244377703: 25571,\n",
       " 0.21544239406295435: 25556,\n",
       " 0.22185773596067548: 25555,\n",
       " 0.22630831198340245: 25537,\n",
       " 0.23047606622513944: 25536,\n",
       " 0.23222750446406226: 25535,\n",
       " 0.33210807582208574: 25534,\n",
       " 0.3387000293389842: 11717,\n",
       " 0.34072640608654975: 11716,\n",
       " 0.3473183596034482: 11714,\n",
       " 0.34923580428077605: 11713,\n",
       " 0.3501657264059764: 11692,\n",
       " 0.3567576799228748: 11686,\n",
       " 0.36388430075572037: 11663,\n",
       " 0.36537601018733884: 11662,\n",
       " 0.3672934548646667: 11660,\n",
       " 0.37053057530577893: 11659,\n",
       " 0.37388540838156514: 10743,\n",
       " 0.38765830376446925: 10739,\n",
       " 0.395180179406568: 10701,\n",
       " 0.4057159543483599: 10700,\n",
       " 0.41230790786525834: 10699,\n",
       " 0.4194345286981038: 10692,\n",
       " 0.5121884792232818: 10691,\n",
       " 0.5166390552460087: 6743,\n",
       " 0.5187804327401803: 6742,\n",
       " 0.5208068094877458: 6737,\n",
       " 0.521478078856026: 6736,\n",
       " 0.5225582477266686: 6735,\n",
       " 0.5248872329649724: 3233,\n",
       " 0.5259070535730258: 3232,\n",
       " 0.5293162076819722: 3231,\n",
       " 0.5302461298071725: 2952,\n",
       " 0.5340499688727376: 2950,\n",
       " 0.5359081611988706: 2949,\n",
       " 0.5368380833240709: 2944,\n",
       " 0.5368596846297982: 2930,\n",
       " 0.5395357294399167: 2928,\n",
       " 0.539685976185359: 2925,\n",
       " 0.5454564135885349: 2919,\n",
       " 0.5472078518274577: 2918,\n",
       " 0.5473738582658628: 2913,\n",
       " 0.5476786447396285: 2912,\n",
       " 0.5495368370657615: 2911,\n",
       " 0.5517389585790863: 2910,\n",
       " 0.5539658117827613: 2909,\n",
       " 0.556663457898607: 2897,\n",
       " 0.5610285582118306: 2896,\n",
       " 0.5610924326156068: 2894,\n",
       " 0.5654575329288303: 2893,\n",
       " 0.7026386511278646: 2892,\n",
       " 0.7092306046447632: 161,\n",
       " 0.719766379586555: 160,\n",
       " 0.7206963017117554: 38,\n",
       " 0.7263583331034535: 37,\n",
       " 0.7272882552286537: 33,\n",
       " 0.7349766633679176: 22,\n",
       " 0.7359065854931177: 21,\n",
       " 0.7378240301704457: 20,\n",
       " 0.7399870089703444: 19,\n",
       " 0.7402716858063412: 18,\n",
       " 0.7444159836873441: 17,\n",
       " 0.74711362980319: 8,\n",
       " 0.7514787301164134: 7,\n",
       " 0.7515426045201896: 5,\n",
       " 0.7530343139518081: 3,\n",
       " 0.7559077048334131: 2}"
      ]
     },
     "execution_count": 16,
     "metadata": {},
     "output_type": "execute_result"
    }
   ],
   "source": [
    "e = entries[0]\n",
    "dict(zip(data['thresholds'],data['posCount']))"
   ]
  },
  {
   "cell_type": "code",
   "execution_count": 18,
   "metadata": {},
   "outputs": [
    {
     "data": {
      "text/plain": [
       "[<matplotlib.lines.Line2D at 0x7f6e769d4da0>]"
      ]
     },
     "execution_count": 18,
     "metadata": {},
     "output_type": "execute_result"
    },
    {
     "data": {
      "image/png": "[encoded data removed]",
      "text/plain": [
       "<Figure size 432x288 with 1 Axes>"
      ]
     },
     "metadata": {},
     "output_type": "display_data"
    }
   ],
   "source": [
    "plt.plot(data['thresholds'],data['posCount'])"
   ]
  },
  {
   "cell_type": "code",
   "execution_count": 20,
   "metadata": {},
   "outputs": [
    {
     "data": {
      "text/plain": [
       "[<matplotlib.lines.Line2D at 0x7f6e7697d7f0>]"
      ]
     },
     "execution_count": 20,
     "metadata": {},
     "output_type": "execute_result"
    },
    {
     "data": {
      "image/png": "[encoded data removed]",
      "text/plain": [
       "<Figure size 432x288 with 1 Axes>"
      ]
     },
     "metadata": {},
     "output_type": "display_data"
    }
   ],
   "source": [
    "plt.plot(data['thresholds'],data['negCount'])"
   ]
  },
  {
   "cell_type": "code",
   "execution_count": 22,
   "metadata": {},
   "outputs": [
    {
     "data": {
      "text/plain": [
       "[<matplotlib.lines.Line2D at 0x7f6e768c56a0>]"
      ]
     },
     "execution_count": 22,
     "metadata": {},
     "output_type": "execute_result"
    },
    {
     "data": {
      "image/png": "[encoded data removed]",
      "text/plain": [
       "<Figure size 432x288 with 1 Axes>"
      ]
     },
     "metadata": {},
     "output_type": "display_data"
    }
   ],
   "source": [
    "e = entries[1]\n",
    "plt.plot(data['fp'][e], data['tp'][e])"
   ]
  },
  {
   "cell_type": "code",
   "execution_count": 26,
   "metadata": {},
   "outputs": [
    {
     "data": {
      "text/plain": [
       "[<matplotlib.lines.Line2D at 0x7f6e76759be0>]"
      ]
     },
     "execution_count": 26,
     "metadata": {},
     "output_type": "execute_result"
    },
    {
     "data": {
      "image/png": "[encoded data removed]",
      "text/plain": [
       "<Figure size 432x288 with 1 Axes>"
      ]
     },
     "metadata": {},
     "output_type": "display_data"
    }
   ],
   "source": [
    "plt.plot(data['thresholds'], data['fp'][e])"
   ]
  },
  {
   "cell_type": "code",
   "execution_count": 25,
   "metadata": {},
   "outputs": [
    {
     "data": {
      "text/plain": [
       "[<matplotlib.lines.Line2D at 0x7f6e76803400>]"
      ]
     },
     "execution_count": 25,
     "metadata": {},
     "output_type": "execute_result"
    },
    {
     "data": {
      "image/png": "[encoded data removed]",
      "text/plain": [
       "<Figure size 432x288 with 1 Axes>"
      ]
     },
     "metadata": {},
     "output_type": "display_data"
    }
   ],
   "source": [
    "plt.plot(data['tp'][e])"
   ]
  },
  {
   "cell_type": "code",
   "execution_count": null,
   "metadata": {},
   "outputs": [],
   "source": []
  }
 ],
 "metadata": {
  "kernelspec": {
   "display_name": "Python 3",
   "language": "python",
   "name": "python3"
  },
  "language_info": {
   "codemirror_mode": {
    "name": "ipython",
    "version": 3
   },
   "file_extension": ".py",
   "mimetype": "text/x-python",
   "name": "python",
   "nbconvert_exporter": "python",
   "pygments_lexer": "ipython3",
   "version": "3.6.5"
  }
 },
 "nbformat": 4,
 "nbformat_minor": 2
}
