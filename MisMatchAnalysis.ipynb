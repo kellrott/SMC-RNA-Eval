{
 "cells": [
  {
   "cell_type": "code",
   "execution_count": 1,
   "metadata": {},
   "outputs": [
    {
     "name": "stderr",
     "output_type": "stream",
     "text": [
      "/usr/lib/python3.6/importlib/_bootstrap.py:219: RuntimeWarning: numpy.dtype size changed, may indicate binary incompatibility. Expected 96, got 88\n",
      "  return f(*args, **kwds)\n",
      "/usr/lib/python3.6/importlib/_bootstrap.py:219: RuntimeWarning: numpy.dtype size changed, may indicate binary incompatibility. Expected 96, got 88\n",
      "  return f(*args, **kwds)\n"
     ]
    }
   ],
   "source": [
    "import pandas\n",
    "import numpy as np\n",
    "import matplotlib.pyplot as plt\n",
    "import itertools"
   ]
  },
  {
   "cell_type": "code",
   "execution_count": 2,
   "metadata": {},
   "outputs": [],
   "source": [
    "df = pandas.read_csv(\"results/reannotated_allfusions_binmx.tsv\", sep=\"\\t\", index_col=0)\n",
    "df.columns = df.columns.map(lambda x:x.replace(\".\", \"|\"))\n",
    "samples = list(set(i.split(\"|\")[0] for i in df.columns if i not in ['fusion_key', 'fusion_id']))\n",
    "entries = list(set(i.split(\"|\")[1] for i in df.columns if i not in ['fusion_key', 'fusion_id']))\n",
    "samples.remove(\"giab\")\n",
    "entries.remove(\"truth\")"
   ]
  },
  {
   "cell_type": "code",
   "execution_count": 65,
   "metadata": {},
   "outputs": [],
   "source": [
    "d_counts = {}\n",
    "a_counts = {}\n",
    "for s in samples:\n",
    "    t = \"%s|truth\" % (s)\n",
    "    donor = set()\n",
    "    acceptor = set()\n",
    "    for i in df[ df[t] != 0 ].index:\n",
    "        j = i.split(\"_\")\n",
    "        d = \"_\".join(j[:4])\n",
    "        a = \"_\".join(j[4:])\n",
    "        donor.add(d)\n",
    "        acceptor.add(a)\n",
    "    \n",
    "    i = []\n",
    "    for e in entries:\n",
    "        l = \"%s|%s\" % (s,e)\n",
    "        if l in df:\n",
    "            i.append(l)\n",
    "    sdf = df[i]\n",
    "    sdf = sdf.loc[sdf.sum(axis=1) > 0]\n",
    "    z = []\n",
    "    for i in sdf.index:\n",
    "        j = i.split(\"_\")\n",
    "        d = \"_\".join(j[:4])\n",
    "        a = \"_\".join(j[4:])\n",
    "        if sum( [d in donor, a in acceptor] ) == 1:\n",
    "            if d in donor:\n",
    "                d_counts[d] = d_counts.get(d,0)+1\n",
    "            if a in acceptor:\n",
    "                a_counts[a] = a_counts.get(a,0)+1\n",
    "    break\n",
    "    \n"
   ]
  },
  {
   "cell_type": "code",
   "execution_count": 67,
   "metadata": {},
   "outputs": [
    {
     "data": {
      "text/plain": [
       "{'chr15_45003800_45003821_+': 3,\n",
       " 'chr2_155555978_155555999_+': 1,\n",
       " 'chr3_193311187_193311208_+': 1}"
      ]
     },
     "execution_count": 67,
     "metadata": {},
     "output_type": "execute_result"
    }
   ],
   "source": [
    "d_counts"
   ]
  },
  {
   "cell_type": "code",
   "execution_count": 68,
   "metadata": {},
   "outputs": [
    {
     "data": {
      "text/plain": [
       "{'chr1_153946337_153946358_+': 1}"
      ]
     },
     "execution_count": 68,
     "metadata": {},
     "output_type": "execute_result"
    }
   ],
   "source": [
    "a_counts"
   ]
  },
  {
   "cell_type": "code",
   "execution_count": 69,
   "metadata": {},
   "outputs": [
    {
     "name": "stdout",
     "output_type": "stream",
     "text": [
      "chr15_45003800_45003821_+_chr5_132010140_132010161_+\n"
     ]
    }
   ],
   "source": [
    "for i in df[ df[t] != 0 ].index:\n",
    "    j = i.split(\"_\")\n",
    "    d = \"_\".join(j[:4])\n",
    "    a = \"_\".join(j[4:])\n",
    "    if d == \"chr15_45003800_45003821_+\":\n",
    "        print(i)"
   ]
  },
  {
   "cell_type": "code",
   "execution_count": 70,
   "metadata": {},
   "outputs": [
    {
     "data": {
      "text/plain": [
       "A549_1|7269246                                      0\n",
       "A549_1|7488045                                      0\n",
       "A549_1|8040408                                      1\n",
       "A549_1|8071387                                      1\n",
       "A549_1|8114525                                      1\n",
       "A549_1|8226744                                      0\n",
       "A549_1|8281648                                      1\n",
       "A549_1|8396553                                      1\n",
       "A549_1|8399080                                      1\n",
       "A549_1|8517255                                      1\n",
       "A549_1|8644607                                      1\n",
       "A549_1|8644608                                      1\n",
       "A549_1|8645203                                      1\n",
       "A549_1|8645601                                      1\n",
       "A549_1|8645625                                      1\n",
       "A549_1|9605581                                      0\n",
       "A549_1|9609147                                      0\n",
       "A549_1|9609148                                      0\n",
       "A549_1|9609498                                      0\n",
       "A549_1|9609499                                      0\n",
       "A549_1|9609502                                      1\n",
       "A549_1|9609508                                      1\n",
       "A549_1|9610021                                      1\n",
       "A549_1|9610272                                      1\n",
       "A549_2|7269246                                      0\n",
       "A549_2|7488045                                      0\n",
       "A549_2|8040408                                      1\n",
       "A549_2|8071387                                      1\n",
       "A549_2|8114525                                      1\n",
       "A549_2|8226744                                      0\n",
       "                                   ...               \n",
       "A549_5|truth                                        1\n",
       "HCC1143_1|truth                                     1\n",
       "HCC1143_2|truth                                     1\n",
       "HCC1143_3|truth                                     1\n",
       "HCC1143_4|truth                                     1\n",
       "HCC1143_5A1|truth                                   1\n",
       "HCC1143_5B2|truth                                   1\n",
       "HCC1143_5C3|truth                                   1\n",
       "JurkatI92_1|truth                                   1\n",
       "JurkatI92_2|truth                                   1\n",
       "JurkatI92_3|truth                                   1\n",
       "JurkatI92_4|truth                                   1\n",
       "JurkatI92_5|truth                                   1\n",
       "LNCapFGC_1|truth                                    1\n",
       "LNCapFGC_2|truth                                    1\n",
       "LNCapFGC_3|truth                                    1\n",
       "LNCapFGC_4|truth                                    1\n",
       "LNCapFGC_5|truth                                    1\n",
       "PC3_1|truth                                         1\n",
       "PC3_2|truth                                         1\n",
       "PC3_3|truth                                         1\n",
       "PC3_4|truth                                         1\n",
       "PC3_5|truth                                         1\n",
       "PC9_1|truth                                         1\n",
       "PC9_2|truth                                         1\n",
       "PC9_3|truth                                         1\n",
       "PC9_4|truth                                         1\n",
       "PC9_5|truth                                         1\n",
       "fusion_key                                   B2M>>IL4\n",
       "fusion_id            ENSG00000166710>>ENSG00000113520\n",
       "Name: chr15_45003800_45003821_+_chr5_132010140_132010161_+, Length: 810, dtype: object"
      ]
     },
     "execution_count": 70,
     "metadata": {},
     "output_type": "execute_result"
    }
   ],
   "source": [
    "df.loc[\"chr15_45003800_45003821_+_chr5_132010140_132010161_+\"]"
   ]
  },
  {
   "cell_type": "code",
   "execution_count": 72,
   "metadata": {},
   "outputs": [
    {
     "data": {
      "text/plain": [
       "1"
      ]
     },
     "execution_count": 72,
     "metadata": {},
     "output_type": "execute_result"
    }
   ],
   "source": [
    "df.loc[\"chr15_45003800_45003821_+_chr5_132010140_132010161_+\"][\"JurkatI92_3|truth\"]"
   ]
  },
  {
   "cell_type": "code",
   "execution_count": 71,
   "metadata": {},
   "outputs": [
    {
     "data": {
      "text/plain": [
       "'JurkatI92_3'"
      ]
     },
     "execution_count": 71,
     "metadata": {},
     "output_type": "execute_result"
    }
   ],
   "source": [
    "s"
   ]
  },
  {
   "cell_type": "code",
   "execution_count": null,
   "metadata": {},
   "outputs": [],
   "source": []
  }
 ],
 "metadata": {
  "kernelspec": {
   "display_name": "Python 3",
   "language": "python",
   "name": "python3"
  },
  "language_info": {
   "codemirror_mode": {
    "name": "ipython",
    "version": 3
   },
   "file_extension": ".py",
   "mimetype": "text/x-python",
   "name": "python",
   "nbconvert_exporter": "python",
   "pygments_lexer": "ipython3",
   "version": "3.6.5"
  }
 },
 "nbformat": 4,
 "nbformat_minor": 2
}
