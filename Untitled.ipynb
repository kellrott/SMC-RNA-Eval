{
 "cells": [
  {
   "cell_type": "code",
   "execution_count": 2,
   "metadata": {},
   "outputs": [],
   "source": [
    "import gripql\n",
    "conn = gripql.Connection(\"http://grip.compbio.ohsu.edu\")\n",
    "g = conn.graph(\"bmeg_rc1_2\")"
   ]
  },
  {
   "cell_type": "code",
   "execution_count": 39,
   "metadata": {},
   "outputs": [
    {
     "data": {
      "text/plain": [
       "{'vertex_labels': ['Aliquot',\n",
       "  'Allele',\n",
       "  'Callset',\n",
       "  'Case',\n",
       "  'Compound',\n",
       "  'CopyNumberAlteration',\n",
       "  'Deadletter',\n",
       "  'DrugResponse',\n",
       "  'Exon',\n",
       "  'G2PAssociation',\n",
       "  'Gene',\n",
       "  'GeneExpression',\n",
       "  'GeneOntologyTerm',\n",
       "  'MinimalAllele',\n",
       "  'PFAMClan',\n",
       "  'PFAMFamily',\n",
       "  'Phenotype',\n",
       "  'Program',\n",
       "  'Project',\n",
       "  'Protein',\n",
       "  'ProteinStructure',\n",
       "  'Publication',\n",
       "  'Sample',\n",
       "  'Transcript',\n",
       "  'TranscriptExpression'],\n",
       " 'edge_labels': ['AliquotFor',\n",
       "  'AlleleCall',\n",
       "  'AlleleIn',\n",
       "  'CallsetFor',\n",
       "  'CopyNumberAlterationOf',\n",
       "  'ExonFor',\n",
       "  'GeneExpressionOf',\n",
       "  'GeneOntologyAnnotation',\n",
       "  'GeneOntologyIsA',\n",
       "  'HasAlleleFeature',\n",
       "  'HasEnvironment',\n",
       "  'HasGeneFeature',\n",
       "  'HasMinimalAlleleFeature',\n",
       "  'HasPhenotype',\n",
       "  'HasSupportingReference',\n",
       "  'InProgram',\n",
       "  'InProject',\n",
       "  'MinimalAlleleIn',\n",
       "  'PFAMAlignment',\n",
       "  'PFAMClanMember',\n",
       "  'PhenotypeOf',\n",
       "  'ProteinFor',\n",
       "  'ResponseIn',\n",
       "  'ResponseTo',\n",
       "  'SampleFor',\n",
       "  'StructureFor',\n",
       "  'TranscriptExpressionOf',\n",
       "  'TranscriptFor',\n",
       "  'TreatedWith']}"
      ]
     },
     "execution_count": 39,
     "metadata": {},
     "output_type": "execute_result"
    }
   ],
   "source": [
    "g.listLabels()"
   ]
  },
  {
   "cell_type": "code",
   "execution_count": 3,
   "metadata": {},
   "outputs": [
    {
     "name": "stderr",
     "output_type": "stream",
     "text": [
      "[INFO]\t2019-02-15 12:40:12,669\t1 results received in 0 seconds\n"
     ]
    },
    {
     "data": {
      "text/plain": [
       "[<AttrDict({'gid': 'Case:ACH-000560', 'label': 'Case', 'data': {'case_id': 'ACH-000560', 'ccle_attributes': {'gender': ''}}})>]"
      ]
     },
     "execution_count": 3,
     "metadata": {},
     "output_type": "execute_result"
    }
   ],
   "source": [
    "list(g.query().V(\"Case:ACH-000560\"))"
   ]
  },
  {
   "cell_type": "code",
   "execution_count": 9,
   "metadata": {},
   "outputs": [
    {
     "name": "stderr",
     "output_type": "stream",
     "text": [
      "[INFO]\t2019-02-15 12:45:12,220\t712 results received in 0 seconds\n"
     ]
    }
   ],
   "source": [
    "data = list(g.query().V(\"Case:ACH-000560\").in_(\"SampleFor\").in_(\"AliquotFor\").in_(\"ResponseIn\"))"
   ]
  },
  {
   "cell_type": "code",
   "execution_count": 10,
   "metadata": {},
   "outputs": [
    {
     "data": {
      "text/plain": [
       "<AttrDict({'gid': 'DrugResponse:CTRP:ACH-000560:parbendazole', 'label': 'DrugResponse', 'data': {'act_area': 7.287, 'activity_data_median': [1.082, 1.0170000000000001, 1.031, 1.071, 0.4212, 0.3918, 0.3651, 0.3438, 0.4122, 0.345, 0.3438, 0.2724, 0.2193, 0.2399, 0.2154, 0.2033], 'compound_id': 'parbendazole', 'doses_um': [0.002, 0.0041, 0.0081, 0.016, 0.032, 0.065, 0.13, 0.26, 0.52, 1, 2.1, 4.2, 8.3, 17, 33, 66], 'ec50': 0.03021, 'sample_id': 'ACH-000560', 'source': 'CTRP'}})>"
      ]
     },
     "execution_count": 10,
     "metadata": {},
     "output_type": "execute_result"
    }
   ],
   "source": [
    "data[0]"
   ]
  },
  {
   "cell_type": "code",
   "execution_count": 12,
   "metadata": {},
   "outputs": [
    {
     "name": "stderr",
     "output_type": "stream",
     "text": [
      "[INFO]\t2019-02-23 00:18:59,351\t89 results received in 0 seconds\n"
     ]
    },
    {
     "name": "stdout",
     "output_type": "stream",
     "text": [
      "[<AttrDict({'gid': 'Case:ACH-000148', 'label': 'Case', 'data': {'case_id': 'ACH-000148', 'ccle_attributes': {'gender': 'Female'}}})>, <AttrDict({'gid': 'Case:ACH-000117', 'label': 'Case', 'data': {'case_id': 'ACH-000117', 'ccle_attributes': {'gender': 'Female'}}})>, <AttrDict({'gid': 'Case:ACH-000258', 'label': 'Case', 'data': {'case_id': 'ACH-000258', 'ccle_attributes': {'gender': 'Female'}}})>, <AttrDict({'gid': 'Case:ACH-000288', 'label': 'Case', 'data': {'case_id': 'ACH-000288', 'ccle_attributes': {'gender': 'Female'}}})>, <AttrDict({'gid': 'Case:ACH-000374', 'label': 'Case', 'data': {'case_id': 'ACH-000374', 'ccle_attributes': {'gender': 'Female'}}})>, <AttrDict({'gid': 'Case:ACH-000857', 'label': 'Case', 'data': {'case_id': 'ACH-000857', 'ccle_attributes': {'gender': 'Female'}}})>, <AttrDict({'gid': 'Case:ACH-000759', 'label': 'Case', 'data': {'case_id': 'ACH-000759', 'ccle_attributes': {'gender': 'Female'}}})>, <AttrDict({'gid': 'Case:ACH-000624', 'label': 'Case', 'data': {'case_id': 'ACH-000624', 'ccle_attributes': {'gender': 'Female'}}})>, <AttrDict({'gid': 'Case:ACH-001394', 'label': 'Case', 'data': {'case_id': 'ACH-001394', 'ccle_attributes': {'gender': 'Female'}}})>, <AttrDict({'gid': 'Case:ACH-000856', 'label': 'Case', 'data': {'case_id': 'ACH-000856', 'ccle_attributes': {'gender': 'Female'}}})>, <AttrDict({'gid': 'Case:ACH-000876', 'label': 'Case', 'data': {'case_id': 'ACH-000876', 'ccle_attributes': {'gender': 'Female'}}})>, <AttrDict({'gid': 'Case:ACH-000668', 'label': 'Case', 'data': {'case_id': 'ACH-000668', 'ccle_attributes': {'gender': 'Female'}}})>, <AttrDict({'gid': 'Case:ACH-000818', 'label': 'Case', 'data': {'case_id': 'ACH-000818', 'ccle_attributes': {'gender': 'Female'}}})>, <AttrDict({'gid': 'Case:ACH-000044', 'label': 'Case', 'data': {'case_id': 'ACH-000044', 'ccle_attributes': {'gender': 'Female'}}})>, <AttrDict({'gid': 'Case:ACH-000196', 'label': 'Case', 'data': {'case_id': 'ACH-000196', 'ccle_attributes': {'gender': 'Female'}}})>, <AttrDict({'gid': 'Case:ACH-001358', 'label': 'Case', 'data': {'case_id': 'ACH-001358', 'ccle_attributes': {'gender': 'Female'}}})>, <AttrDict({'gid': 'Case:ACH-001514', 'label': 'Case', 'data': {'case_id': 'ACH-001514', 'ccle_attributes': {'gender': 'Female'}}})>, <AttrDict({'gid': 'Case:ACH-001825', 'label': 'Case', 'data': {'case_id': 'ACH-001825', 'ccle_attributes': {'gender': '-1'}}})>, <AttrDict({'gid': 'Case:ACH-002322', 'label': 'Case', 'data': {'case_id': 'ACH-002322', 'ccle_attributes': {'gender': ''}}})>, <AttrDict({'gid': 'Case:ACH-002325', 'label': 'Case', 'data': {'case_id': 'ACH-002325', 'ccle_attributes': {'gender': ''}}})>, <AttrDict({'gid': 'Case:ACH-002328', 'label': 'Case', 'data': {'case_id': 'ACH-002328', 'ccle_attributes': {'gender': ''}}})>, <AttrDict({'gid': 'Case:ACH-000691', 'label': 'Case', 'data': {'case_id': 'ACH-000691', 'ccle_attributes': {'gender': 'Female'}}})>, <AttrDict({'gid': 'Case:ACH-001819', 'label': 'Case', 'data': {'case_id': 'ACH-001819', 'ccle_attributes': {'gender': ''}}})>, <AttrDict({'gid': 'Case:ACH-002208', 'label': 'Case', 'data': {'case_id': 'ACH-002208', 'ccle_attributes': {'gender': ''}}})>, <AttrDict({'gid': 'Case:ACH-000017', 'label': 'Case', 'data': {'case_id': 'ACH-000017', 'ccle_attributes': {'gender': 'Female'}}})>, <AttrDict({'gid': 'Case:ACH-000248', 'label': 'Case', 'data': {'case_id': 'ACH-000248', 'ccle_attributes': {'gender': 'Female'}}})>, <AttrDict({'gid': 'Case:ACH-001065', 'label': 'Case', 'data': {'case_id': 'ACH-001065', 'ccle_attributes': {'gender': 'Female'}}})>, <AttrDict({'gid': 'Case:ACH-000111', 'label': 'Case', 'data': {'case_id': 'ACH-000111', 'ccle_attributes': {'gender': 'Female'}}})>, <AttrDict({'gid': 'Case:ACH-000212', 'label': 'Case', 'data': {'case_id': 'ACH-000212', 'ccle_attributes': {'gender': 'Female'}}})>, <AttrDict({'gid': 'Case:ACH-000134', 'label': 'Case', 'data': {'case_id': 'ACH-000134', 'ccle_attributes': {'gender': 'Female'}}})>, <AttrDict({'gid': 'Case:ACH-000711', 'label': 'Case', 'data': {'case_id': 'ACH-000711', 'ccle_attributes': {'gender': 'Female'}}})>, <AttrDict({'gid': 'Case:ACH-000859', 'label': 'Case', 'data': {'case_id': 'ACH-000859', 'ccle_attributes': {'gender': 'Female'}}})>, <AttrDict({'gid': 'Case:ACH-000643', 'label': 'Case', 'data': {'case_id': 'ACH-000643', 'ccle_attributes': {'gender': 'Female'}}})>, <AttrDict({'gid': 'Case:ACH-000621', 'label': 'Case', 'data': {'case_id': 'ACH-000621', 'ccle_attributes': {'gender': 'Female'}}})>, <AttrDict({'gid': 'Case:ACH-000568', 'label': 'Case', 'data': {'case_id': 'ACH-000568', 'ccle_attributes': {'gender': 'Female'}}})>, <AttrDict({'gid': 'Case:ACH-000721', 'label': 'Case', 'data': {'case_id': 'ACH-000721', 'ccle_attributes': {'gender': 'Female'}}})>, <AttrDict({'gid': 'Case:ACH-000768', 'label': 'Case', 'data': {'case_id': 'ACH-000768', 'ccle_attributes': {'gender': 'Female'}}})>, <AttrDict({'gid': 'Case:ACH-000849', 'label': 'Case', 'data': {'case_id': 'ACH-000849', 'ccle_attributes': {'gender': 'Female'}}})>, <AttrDict({'gid': 'Case:ACH-000828', 'label': 'Case', 'data': {'case_id': 'ACH-000828', 'ccle_attributes': {'gender': 'Female'}}})>, <AttrDict({'gid': 'Case:ACH-000934', 'label': 'Case', 'data': {'case_id': 'ACH-000934', 'ccle_attributes': {'gender': 'Female'}}})>, <AttrDict({'gid': 'Case:ACH-000902', 'label': 'Case', 'data': {'case_id': 'ACH-000902', 'ccle_attributes': {'gender': 'Female'}}})>, <AttrDict({'gid': 'Case:ACH-001392', 'label': 'Case', 'data': {'case_id': 'ACH-001392', 'ccle_attributes': {'gender': 'Female'}}})>, <AttrDict({'gid': 'Case:ACH-001249', 'label': 'Case', 'data': {'case_id': 'ACH-001249', 'ccle_attributes': {'gender': 'Female'}}})>, <AttrDict({'gid': 'Case:ACH-001388', 'label': 'Case', 'data': {'case_id': 'ACH-001388', 'ccle_attributes': {'gender': 'Female'}}})>, <AttrDict({'gid': 'Case:ACH-002321', 'label': 'Case', 'data': {'case_id': 'ACH-002321', 'ccle_attributes': {'gender': ''}}})>, <AttrDict({'gid': 'Case:ACH-002326', 'label': 'Case', 'data': {'case_id': 'ACH-002326', 'ccle_attributes': {'gender': ''}}})>, <AttrDict({'gid': 'Case:ACH-002327', 'label': 'Case', 'data': {'case_id': 'ACH-002327', 'ccle_attributes': {'gender': ''}}})>, <AttrDict({'gid': 'Case:ACH-002331', 'label': 'Case', 'data': {'case_id': 'ACH-002331', 'ccle_attributes': {'gender': ''}}})>, <AttrDict({'gid': 'Case:ACH-000352', 'label': 'Case', 'data': {'case_id': 'ACH-000352', 'ccle_attributes': {'gender': 'Female'}}})>, <AttrDict({'gid': 'Case:ACH-001120', 'label': 'Case', 'data': {'case_id': 'ACH-001120', 'ccle_attributes': {'gender': 'Female'}}})>, <AttrDict({'gid': 'Case:ACH-001820', 'label': 'Case', 'data': {'case_id': 'ACH-001820', 'ccle_attributes': {'gender': ''}}})>, <AttrDict({'gid': 'Case:ACH-001395', 'label': 'Case', 'data': {'case_id': 'ACH-001395', 'ccle_attributes': {'gender': 'Female'}}})>, <AttrDict({'gid': 'Case:ACH-000277', 'label': 'Case', 'data': {'case_id': 'ACH-000277', 'ccle_attributes': {'gender': 'Female'}}})>, <AttrDict({'gid': 'Case:ACH-000019', 'label': 'Case', 'data': {'case_id': 'ACH-000019', 'ccle_attributes': {'gender': 'Female'}}})>, <AttrDict({'gid': 'Case:ACH-000230', 'label': 'Case', 'data': {'case_id': 'ACH-000230', 'ccle_attributes': {'gender': 'Female'}}})>, <AttrDict({'gid': 'Case:ACH-000540', 'label': 'Case', 'data': {'case_id': 'ACH-000540', 'ccle_attributes': {'gender': 'Female'}}})>, <AttrDict({'gid': 'Case:ACH-000573', 'label': 'Case', 'data': {'case_id': 'ACH-000573', 'ccle_attributes': {'gender': 'Female'}}})>, <AttrDict({'gid': 'Case:ACH-000413', 'label': 'Case', 'data': {'case_id': 'ACH-000413', 'ccle_attributes': {'gender': 'Female'}}})>, <AttrDict({'gid': 'Case:ACH-000147', 'label': 'Case', 'data': {'case_id': 'ACH-000147', 'ccle_attributes': {'gender': 'Female'}}})>, <AttrDict({'gid': 'Case:ACH-000783', 'label': 'Case', 'data': {'case_id': 'ACH-000783', 'ccle_attributes': {'gender': 'Female'}}})>, <AttrDict({'gid': 'Case:ACH-000536', 'label': 'Case', 'data': {'case_id': 'ACH-000536', 'ccle_attributes': {'gender': 'Female'}}})>, <AttrDict({'gid': 'Case:ACH-000349', 'label': 'Case', 'data': {'case_id': 'ACH-000349', 'ccle_attributes': {'gender': 'Female'}}})>, <AttrDict({'gid': 'Case:ACH-000725', 'label': 'Case', 'data': {'case_id': 'ACH-000725', 'ccle_attributes': {'gender': 'Female'}}})>, <AttrDict({'gid': 'Case:ACH-000699', 'label': 'Case', 'data': {'case_id': 'ACH-000699', 'ccle_attributes': {'gender': 'Female'}}})>, <AttrDict({'gid': 'Case:ACH-001396', 'label': 'Case', 'data': {'case_id': 'ACH-001396', 'ccle_attributes': {'gender': 'Female'}}})>, <AttrDict({'gid': 'Case:ACH-000927', 'label': 'Case', 'data': {'case_id': 'ACH-000927', 'ccle_attributes': {'gender': 'Female'}}})>, <AttrDict({'gid': 'Case:ACH-000930', 'label': 'Case', 'data': {'case_id': 'ACH-000930', 'ccle_attributes': {'gender': 'Female'}}})>, <AttrDict({'gid': 'Case:ACH-001389', 'label': 'Case', 'data': {'case_id': 'ACH-001389', 'ccle_attributes': {'gender': 'Female'}}})>, <AttrDict({'gid': 'Case:ACH-002319', 'label': 'Case', 'data': {'case_id': 'ACH-002319', 'ccle_attributes': {'gender': ''}}})>, <AttrDict({'gid': 'Case:ACH-002324', 'label': 'Case', 'data': {'case_id': 'ACH-002324', 'ccle_attributes': {'gender': ''}}})>, <AttrDict({'gid': 'Case:ACH-001390', 'label': 'Case', 'data': {'case_id': 'ACH-001390', 'ccle_attributes': {'gender': 'Female'}}})>, <AttrDict({'gid': 'Case:ACH-000554', 'label': 'Case', 'data': {'case_id': 'ACH-000554', 'ccle_attributes': {'gender': 'Female'}}})>, <AttrDict({'gid': 'Case:ACH-001397', 'label': 'Case', 'data': {'case_id': 'ACH-001397', 'ccle_attributes': {'gender': 'Female'}}})>, <AttrDict({'gid': 'Case:ACH-002179', 'label': 'Case', 'data': {'case_id': 'ACH-002179', 'ccle_attributes': {'gender': ''}}})>, <AttrDict({'gid': 'Case:ACH-002320', 'label': 'Case', 'data': {'case_id': 'ACH-002320', 'ccle_attributes': {'gender': ''}}})>, <AttrDict({'gid': 'Case:ACH-002329', 'label': 'Case', 'data': {'case_id': 'ACH-002329', 'ccle_attributes': {'gender': ''}}})>, <AttrDict({'gid': 'Case:ACH-002330', 'label': 'Case', 'data': {'case_id': 'ACH-002330', 'ccle_attributes': {'gender': ''}}})>, <AttrDict({'gid': 'Case:ACH-000028', 'label': 'Case', 'data': {'case_id': 'ACH-000028', 'ccle_attributes': {'gender': 'Female'}}})>, <AttrDict({'gid': 'Case:ACH-001393', 'label': 'Case', 'data': {'case_id': 'ACH-001393', 'ccle_attributes': {'gender': 'Female'}}})>, <AttrDict({'gid': 'Case:ACH-000097', 'label': 'Case', 'data': {'case_id': 'ACH-000097', 'ccle_attributes': {'gender': 'Female'}}})>, <AttrDict({'gid': 'Case:ACH-000184', 'label': 'Case', 'data': {'case_id': 'ACH-000184', 'ccle_attributes': {'gender': 'Female'}}})>, <AttrDict({'gid': 'Case:ACH-000223', 'label': 'Case', 'data': {'case_id': 'ACH-000223', 'ccle_attributes': {'gender': 'Female'}}})>, <AttrDict({'gid': 'Case:ACH-000330', 'label': 'Case', 'data': {'case_id': 'ACH-000330', 'ccle_attributes': {'gender': 'Female'}}})>, <AttrDict({'gid': 'Case:ACH-000276', 'label': 'Case', 'data': {'case_id': 'ACH-000276', 'ccle_attributes': {'gender': 'Female'}}})>, <AttrDict({'gid': 'Case:ACH-000910', 'label': 'Case', 'data': {'case_id': 'ACH-000910', 'ccle_attributes': {'gender': 'Female'}}})>, <AttrDict({'gid': 'Case:ACH-001391', 'label': 'Case', 'data': {'case_id': 'ACH-001391', 'ccle_attributes': {'gender': 'Female'}}})>, <AttrDict({'gid': 'Case:ACH-000755', 'label': 'Case', 'data': {'case_id': 'ACH-000755', 'ccle_attributes': {'gender': 'Female'}}})>, <AttrDict({'gid': 'Case:ACH-002163', 'label': 'Case', 'data': {'case_id': 'ACH-002163', 'ccle_attributes': {'gender': ''}}})>, <AttrDict({'gid': 'Case:ACH-002323', 'label': 'Case', 'data': {'case_id': 'ACH-002323', 'ccle_attributes': {'gender': ''}}})>]\n"
     ]
    }
   ],
   "source": [
    "print(list(g.query().V(\"Project:DepMap_Breast_Cancer\").in_(\"InProject\")))"
   ]
  },
  {
   "cell_type": "code",
   "execution_count": 14,
   "metadata": {},
   "outputs": [
    {
     "name": "stderr",
     "output_type": "stream",
     "text": [
      "[INFO]\t2019-02-23 00:21:01,551\t656 results received in 10 seconds\n"
     ]
    },
    {
     "name": "stdout",
     "output_type": "stream",
     "text": [
      "['Compound:NO_ONTOLOGY~BRD-K01737880', 'Compound:CID44153236', 'Compound:CID53393127', 'Compound:CID10090485', 'Compound:NO_ONTOLOGY~FSC231', 'Compound:NO_ONTOLOGY~BRD-K16130065', 'Compound:NO_ONTOLOGY~BRD-K34099515', 'Compound:NO_ONTOLOGY~968', 'Compound:CID42623900', 'Compound:NO_ONTOLOGY~BRD-K44224150', 'Compound:NO_ONTOLOGY~BRD-K84807411', 'Compound:NO_ONTOLOGY~BRD-K86535717', 'Compound:NO_ONTOLOGY~BRD-K30019337', 'Compound:NO_ONTOLOGY~BRD-K78574327', 'Compound:SID135378232', 'Compound:NO_ONTOLOGY~BRD-K29086754', 'Compound:NO_ONTOLOGY~BRD-K41334119', 'Compound:NO_ONTOLOGY~BRD-K49290616', 'Compound:NO_ONTOLOGY~BRD-K96970199', 'Compound:NO_ONTOLOGY~BRD-K27224038', 'Compound:CID2756', 'Compound:CID638278', 'Compound:CID6438394', 'Compound:NO_ONTOLOGY~BRD-K96431673', 'Compound:NO_ONTOLOGY~BEC', 'Compound:CID3476986', 'Compound:NO_ONTOLOGY~CIL55A', 'Compound:NO_ONTOLOGY~BRD-K09344309', 'Compound:CID3690', 'Compound:SID87150', 'Compound:NO_ONTOLOGY~CIL55', 'Compound:CHEMBL376140', 'Compound:NO_ONTOLOGY~ELCPK', 'Compound:CID11683005', 'Compound:NO_ONTOLOGY~BRD-K03911514', 'Compound:NO_ONTOLOGY~BRD-A94377914', 'Compound:CID654092', 'Compound:NO_ONTOLOGY~CIL70', 'Compound:CID2946601', 'Compound:NO_ONTOLOGY~BRD-K27188169', 'Compound:NO_ONTOLOGY~BRD-K99584050', 'Compound:CID49846579', 'Compound:CID54454', 'Compound:CID25150857', 'Compound:CID74031', 'Compound:CID10026128', 'Compound:CID4705', 'Compound:CID5743', 'Compound:CID11612883', 'Compound:NO_ONTOLOGY~BRD-K28456706', 'Compound:CID5566', 'Compound:CID9825149', 'Compound:CID16013152', 'Compound:NO_ONTOLOGY~ISOX', 'Compound:NO_ONTOLOGY~BRD-K33199242', 'Compound:NO_ONTOLOGY~BRD-K13999467', 'Compound:CID3025986', 'Compound:NO_ONTOLOGY~BRD-K37390332', 'Compound:CID25105715', 'Compound:CID13290751', 'Compound:CID11317348', 'Compound:CID11507802', 'Compound:CID4917', 'Compound:CID4477', 'Compound:CID5284329', 'Compound:CID400010', 'Compound:CID219104', 'Compound:NO_ONTOLOGY~BRD-K52037352', 'Compound:CID11497983', 'Compound:CID7326481', 'Compound:CID16760646', 'Compound:CID9910224', 'Compound:CID9810884', 'Compound:NO_ONTOLOGY~XMD8-85', 'Compound:NO_ONTOLOGY~XMD14-99', 'Compound:CID44259', 'Compound:CID2984337', 'Compound:CID11844351', 'Compound:CID3796', 'Compound:CID10341154', 'Compound:CID11634725', 'Compound:CID5311497', 'Compound:CID13342', 'Compound:CID49850262', 'Compound:NO_ONTOLOGY~TL-1-85', 'Compound:CID446378', 'Compound:CID2733526', 'Compound:CID78357763', 'Compound:CHEMBL3137320', 'Compound:CID54580698', 'Compound:CID14541552', 'Compound:CID56962337', 'Compound:CID479503', 'Compound:CHEBI:131881', 'Compound:CID16079009', 'Compound:CID176158', 'Compound:SID56311024', 'Compound:NO_ONTOLOGY~QS11', 'Compound:NO_ONTOLOGY~QL-VIII-58', 'Compound:CID51371303', 'Compound:CID9956222', 'Compound:CID1401', 'Compound:CID6445562', 'Compound:CID9868037', 'Compound:CHEMBL408194', 'Compound:CID8249', 'Compound:CID16747388', 'Compound:CID11327430', 'Compound:CHEMBL501993', 'Compound:CID52918385', 'Compound:CID42640', 'Compound:NO_ONTOLOGY~MPS-1-IN-1', 'Compound:CID11667893', 'Compound:CID9829523', 'Compound:CID126565', 'Compound:CID984333', 'Compound:CID216326', 'Compound:NO_ONTOLOGY~KIN001-270', 'Compound:NO_ONTOLOGY~KIN001-260', 'Compound:CID104741', 'Compound:NO_ONTOLOGY~KIN001-244', 'Compound:CID5278396', 'Compound:NO_ONTOLOGY~KIN001-266', 'Compound:NO_ONTOLOGY~JQ12', 'Compound:NO_ONTOLOGY~BRD-K75293299', 'Compound:CID6851740', 'Compound:NO_ONTOLOGY~IOX2', 'Compound:CID9943465', 'Compound:NO_ONTOLOGY~HG-5-88-01', 'Compound:CID16725726', 'Compound:NO_ONTOLOGY~BRD-K29313308', 'Compound:NO_ONTOLOGY~HG-5-113-01', 'Compound:NO_ONTOLOGY~JQ1 (1)', 'Compound:CID11626927', 'Compound:CID9826308', 'Compound:CID16095342', 'Compound:CID25124816', 'Compound:CID11617559', 'Compound:CID5311510', 'Compound:NO_ONTOLOGY~Genentech Cpd 10', 'Compound:CID3463933', 'Compound:CID36462', 'Compound:CID176167', 'Compound:CID300471', 'Compound:CID3011155', 'Compound:NO_ONTOLOGY~JQ-1:MK-0752 (1:1 mol/mol)', 'Compound:NO_ONTOLOGY~BRD-K27986637', 'Compound:CID24785538', 'Compound:NO_ONTOLOGY~CBB-1007', 'Compound:CID45279963', 'Compound:NO_ONTOLOGY~BRD-K35604418', 'Compound:CID57330099', 'Compound:CID148124', 'Compound:CID24889392', 'Compound:CID44607531', 'Compound:CID5426', 'Compound:NO_ONTOLOGY~BRD-K79669418', 'Compound:CID122388991', 'Compound:CID46926350', 'Compound:CID42714834', 'Compound:NO_ONTOLOGY~BRD1835', 'Compound:CID46881063', 'Compound:CID9927531', 'Compound:CID46191454', 'Compound:CID16115403', 'Compound:CID9908783', 'Compound:CHEMBL252164', 'Compound:CID10322450', 'Compound:NO_ONTOLOGY~CAY10618', 'Compound:CID24776445', 'Compound:CID72376', 'Compound:NO_ONTOLOGY~BRD-K51490254', 'Compound:CID24771867', 'Compound:CID73707371', 'Compound:CID5746', 'Compound:CID9809715', 'Compound:CID11624601', 'Compound:CID11647372', 'Compound:CID51037431', 'Compound:NO_ONTOLOGY~BRD-K66453893', 'Compound:NO_ONTOLOGY~QL-X-138', 'Compound:CID11717001', 'Compound:CID72967', 'Compound:CID26596', 'Compound:CID53232', 'Compound:CID25062766', 'Compound:CID9826528', 'Compound:CID10385095', 'Compound:CID3081361', 'Compound:CID9936388', 'Compound:NO_ONTOLOGY~BRD-K50799972', 'Compound:CID15547703', 'Compound:CID6918289', 'Compound:CID11966550', 'Compound:NO_ONTOLOGY~BRD-A86708339', 'Compound:CID60750', 'Compound:CID9907093', 'Compound:CID4993', 'Compound:CID5280757', 'Compound:CID10427712', 'Compound:CID16720766', 'Compound:CID704473', 'Compound:CID16725315', 'Compound:CID76044', 'Compound:CID16065773', 'Compound:NO_ONTOLOGY~BRD-K04800985', 'Compound:NO_ONTOLOGY~BRD-K16147474', 'Compound:CID753704', 'Compound:CID72277', 'Compound:CID53321387', 'Compound:CID53340664', 'Compound:NO_ONTOLOGY~BRD-K55116708', 'Compound:CID23939', 'Compound:NO_ONTOLOGY~BRD-K13185470', 'Compound:CID2749', 'Compound:NO_ONTOLOGY~VAF-347', 'Compound:CID11977753', 'Compound:CID216468', 'Compound:CID11364421', 'Compound:CID5951923', 'Compound:NO_ONTOLOGY~MI-1', 'Compound:CID9931954', 'Compound:CID1714884', 'Compound:CID60838', 'Compound:CID3689413', 'Compound:CID10077130', 'Compound:CID11713159', 'Compound:CID11467730', 'Compound:NO_ONTOLOGY~XMD11-85h', 'Compound:CID25161177', 'Compound:CID135421197', 'Compound:CID5284373', 'Compound:CID50905018', 'Compound:CID3136844', 'Compound:CID44450571', 'Compound:CID135411', 'Compound:CID2113511', 'Compound:NO_ONTOLOGY~QL-XI-92', 'Compound:NO_ONTOLOGY~Merck60', 'Compound:CID5282315', 'Compound:NO_ONTOLOGY~BRD-K48334597', 'Compound:NO_ONTOLOGY~BRD-K61166597', 'Compound:CID2126', 'Compound:NO_ONTOLOGY~methylstat', 'Compound:CID11282283', 'Compound:NO_ONTOLOGY~16-beta-bromoandrosterone', 'Compound:CID3062316', 'Compound:CID2858522', 'Compound:CID3854666', 'Compound:NO_ONTOLOGY~BRD-K34485477', 'Compound:NO_ONTOLOGY~JW-7-52-1', 'Compound:CID3025944', 'Compound:CID5282054', 'Compound:CID49867930', 'Compound:CID42642645', 'Compound:CID11213558', 'Compound:CID9967941', 'Compound:NO_ONTOLOGY~BRD-K03536150', 'Compound:CID38904', 'Compound:CID16741245', 'Compound:NO_ONTOLOGY~BRD-K71935468', 'Compound:CID10027278', 'Compound:NO_ONTOLOGY~SR-II-138A', 'Compound:NO_ONTOLOGY~BRD-K41597374', 'Compound:NO_ONTOLOGY~BRD-K90370028', 'Compound:CID1317464', 'Compound:CID135398510', 'Compound:CID613000', 'Compound:CID241158', 'Compound:CID521106', 'Compound:CID49806720', 'Compound:NO_ONTOLOGY~BRD-K24690302', 'Compound:CID6918848', 'Compound:CID2708', 'Compound:CID156414', 'Compound:CID6505803', 'Compound:CID44182295', 'Compound:CID44566778', 'Compound:CID25061501', 'Compound:CID24748573', 'Compound:CID409805', 'Compound:CID1641662', 'Compound:NO_ONTOLOGY~BRD-K20514654', 'Compound:NO_ONTOLOGY~XMD15-27', 'Compound:CID650361', 'Compound:NO_ONTOLOGY~NPC-26', 'Compound:CID23725625', 'Compound:CID4915', 'Compound:CID2949965', 'Compound:CID3038522', 'Compound:CID25154868', 'Compound:CID44607530', 'Compound:CID702558', 'Compound:CID25102847', 'Compound:CID5479543', 'Compound:CHEMBL2104970', 'Compound:CID5311', 'Compound:CID2742550', 'Compound:CID3503', 'Compound:CID56949517', 'Compound:CID11503417', 'Compound:NO_ONTOLOGY~BRD-K30748066', 'Compound:NO_ONTOLOGY~ZG-10', 'Compound:CHEMBL1091644', 'Compound:CID10461815', 'Compound:CID24856436', 'Compound:CID656346', 'Compound:CID3385', 'Compound:CID3005532', 'Compound:CID11707110', 'Compound:CID45100481', 'Compound:CID45481830', 'Compound:CID644241', 'Compound:CID11476171', 'Compound:CID12003241', 'Compound:NO_ONTOLOGY~BRD-K80183349', 'Compound:CID446155', 'Compound:CID11234052', 'Compound:CID71271629', 'Compound:CID4259181', 'Compound:CID56973724', 'Compound:CID10302451', 'Compound:NO_ONTOLOGY~1S,3R-RSL-3', 'Compound:CID5212', 'Compound:CID2375', 'Compound:CID216239', 'Compound:CID56649450', 'Compound:CID23582824', 'Compound:CID123631', 'Compound:CID9911830', 'Compound:CID8515', 'Compound:CID5329102', 'Compound:CID10113978', 'Compound:CID11609586', 'Compound:CID5330286', 'Compound:CID11656518', 'Compound:CID135928012', 'Compound:CID25222038', 'Compound:CID208908', 'Compound:CID60700', 'Compound:CID11178236', 'Compound:CID72199292', 'Compound:CID5287969', 'Compound:CID24964624', 'Compound:CID5978', 'Compound:CID9914412', 'Compound:CID3825829', 'Compound:CID44543605', 'Compound:CID11626560', 'Compound:NO_ONTOLOGY~BRD-K02251932', 'Compound:NO_ONTOLOGY~XMD13-2', 'Compound:CID46843906', 'Compound:NO_ONTOLOGY~WZ-1-84', 'Compound:CID36314', 'Compound:CID5289247', 'Compound:CID71729975', 'Compound:NO_ONTOLOGY~NPK76-II-72-1', 'Compound:CID100016', 'Compound:NO_ONTOLOGY~BRD-A71883111', 'Compound:CID4096211', 'Compound:CID10127622', 'Compound:CID24821094', 'Compound:CID421610', 'Compound:CID11493598', 'Compound:CID11152667', 'Compound:CID9915743', 'Compound:CID452548', 'Compound:CID24775005', 'Compound:CID11228183', 'Compound:CID387447', 'Compound:CID71304818', 'Compound:CID16736978', 'Compound:CID5494449', 'Compound:CID5351362', 'Compound:NO_ONTOLOGY~FQI-2', 'Compound:CID119182', 'Compound:CID5311037', 'Compound:CID11455910', 'Compound:NO_ONTOLOGY~TL-2-105', 'Compound:CID126941', 'Compound:CID5287620', 'Compound:CID6852167', 'Compound:CID46398810', 'Compound:CID462382', 'Compound:CID65110', 'Compound:NO_ONTOLOGY~FMK', 'Compound:CID53472153', 'Compound:CID46215462', 'Compound:CID11167602', 'Compound:NO_ONTOLOGY~BRD8958', 'Compound:CID46916568', 'Compound:CID46224516', 'Compound:CID9823820', 'Compound:CID3384730', 'Compound:CID9929138', 'Compound:CID24779724', 'Compound:NO_ONTOLOGY~BRD-K63431240', 'Compound:NO_ONTOLOGY~BRD1812', 'Compound:NO_ONTOLOGY~ML210', 'Compound:CID25126798', 'Compound:CID11427553', 'Compound:NO_ONTOLOGY~IU1', 'Compound:CID31703', 'Compound:CID52912189', 'Compound:NO_ONTOLOGY~BRD-A02303741', 'Compound:NO_ONTOLOGY~BRD-K11533227', 'Compound:CID3634881', 'Compound:CID2828334', 'Compound:CID5281767', 'Compound:CID44237094', 'Compound:CID11955716', 'Compound:CID5291', 'Compound:CID1242560', 'Compound:CID5281672', 'Compound:NO_ONTOLOGY~BRD-K97651142', 'Compound:CID25227462', 'Compound:NO_ONTOLOGY~BRD-K33514849', 'Compound:CID11494412', 'Compound:CID9444', 'Compound:NO_ONTOLOGY~SB52334', 'Compound:NO_ONTOLOGY~AA-COCF3', 'Compound:CID445091', 'Compound:CID81146', 'Compound:CHEMBL414804', 'Compound:NO_ONTOLOGY~BRD-A05715709', 'Compound:CID24970400', 'Compound:CID24180719', 'Compound:CID24826799', 'Compound:NO_ONTOLOGY~BRD-K07442505', 'Compound:NO_ONTOLOGY~BCL-LZH-4', 'Compound:NO_ONTOLOGY~WZ3105', 'Compound:NO_ONTOLOGY~BRD-K26531177', 'Compound:CID15953870', 'Compound:CID375860', 'Compound:NO_ONTOLOGY~BRD-K64610608', 'Compound:CID9884685', 'Compound:CID11433190', 'Compound:CHEMBL597845', 'Compound:CID24797083', 'Compound:CID122327', 'Compound:CID1566236', 'Compound:CID44285978', 'Compound:NO_ONTOLOGY~BRD-K51831558', 'Compound:CID135659062', 'Compound:CID445455', 'Compound:CID262093', 'Compound:CID10296883', 'Compound:CID24951314', 'Compound:CID53495165', 'Compound:NO_ONTOLOGY~IPR-456', 'Compound:CID4261', 'Compound:CID10109823', 'Compound:CID444795', 'Compound:CID10074640', 'Compound:CID64971', 'Compound:NO_ONTOLOGY~PDMP', 'Compound:CID46901937', 'Compound:NO_ONTOLOGY~CIL41', 'Compound:CID49867926', 'Compound:CID637858', 'Compound:CID176870', 'Compound:CID6610355', 'Compound:CID322968', 'Compound:NO_ONTOLOGY~KIN001-236', 'Compound:CID6438330', 'Compound:CID82146', 'Compound:CID285033', 'Compound:NO_ONTOLOGY~RITA', 'Compound:CID6918837', 'Compound:NO_ONTOLOGY~BRD-K66532283', 'Compound:CID132496', 'Compound:NO_ONTOLOGY~CR-1-31B', 'Compound:NO_ONTOLOGY~JQ1 (2)', 'Compound:CID6918328', 'Compound:CID11960529', 'Compound:CID160355', 'Compound:CID9874913', 'Compound:CID6445533', 'Compound:CID55283', 'Compound:NO_ONTOLOGY~BRD-K17060750', 'Compound:CID5284616', 'Compound:CID135403620', 'Compound:CID56840728', 'Compound:NO_ONTOLOGY~QL-XII-61', 'Compound:NO_ONTOLOGY~BRD-K14844214', 'Compound:CID25257557', 'Compound:NO_ONTOLOGY~BRD-K48477130', 'Compound:CID24901704', 'Compound:CID5113032', 'Compound:NO_ONTOLOGY~BX796', 'Compound:SID348268784', 'Compound:CID44137675', 'Compound:CID6184667', 'Compound:CID107970', 'Compound:CID42611257', 'Compound:CID24772860', 'Compound:CID15983966', 'Compound:CID6918736', 'Compound:CID25022339', 'Compound:CID119607', 'Compound:CID44241473', 'Compound:CID9549297', 'Compound:CID448949', 'Compound:CID9843750', 'Compound:CHEMBL476', 'Compound:CHEMBL3120215', 'Compound:CID23635314', 'Compound:NO_ONTOLOGY~BRD-M00053801', 'Compound:CID11657048', 'Compound:CID9805055', 'Compound:CID5281319', 'Compound:NO_ONTOLOGY~BRD-K34222889', 'Compound:CID135659046', 'Compound:CID5394', 'Compound:NO_ONTOLOGY~JW-7-24-1', 'Compound:CID10410894', 'Compound:CID44632017', 'Compound:CID9903786', 'Compound:CID327653', 'Compound:CID6917907', 'Compound:CID4521392', 'Compound:NO_ONTOLOGY~BRD-K71781559', 'Compound:CID252682', 'Compound:CID6473881', 'Compound:CID25195348', 'Compound:CID6918454', 'Compound:CID5470400', 'Compound:CID156422', 'Compound:CID9956119', 'Compound:CID148198', 'Compound:NO_ONTOLOGY~ML320', 'Compound:CID107985', 'Compound:CID53301938', 'Compound:CID5717801', 'Compound:CID54676905', 'Compound:CID9803433', 'Compound:NO_ONTOLOGY~MI-2', 'Compound:CID148123', 'Compound:CID53302361', 'Compound:CID10231331', 'Compound:CID3218', 'Compound:CHEMBL1351', 'Compound:CID4369359', 'Compound:CID46885626', 'Compound:CID46943432', 'Compound:CID10126189', 'Compound:CID9840324', 'Compound:NO_ONTOLOGY~BRD-K94991378', 'Compound:CID9863776', 'Compound:CID6918638', 'Compound:CID11214940', 'Compound:NO_ONTOLOGY~BRD-K92856060', 'Compound:NO_ONTOLOGY~BRD-K42260513', 'Compound:NO_ONTOLOGY~BRD-K45681478', 'Compound:CID25167777', 'Compound:NO_ONTOLOGY~DBeQ', 'Compound:CID6450551', 'Compound:NO_ONTOLOGY~YL54', 'Compound:CID67156097', 'Compound:CHEMBL560895', 'Compound:NO_ONTOLOGY~BRD-K09587429', 'Compound:CID65628', 'Compound:CID2130404', 'Compound:CID135418940', 'Compound:NO_ONTOLOGY~BRD-K85133207', 'Compound:CID19582717', 'Compound:CID11754511', 'Compound:CID16722836', 'Compound:CID439501', 'Compound:CID10184653', 'Compound:CID4788', 'Compound:CID451668', 'Compound:CID2842253', 'Compound:CID11719255', 'Compound:NO_ONTOLOGY~B02', 'Compound:CID227681', 'Compound:NO_ONTOLOGY~BRD8899', 'Compound:NO_ONTOLOGY~BRD-K99006945', 'Compound:CID151289', 'Compound:NO_ONTOLOGY~PL-DI', 'Compound:CID24978538', 'Compound:CID9813758', 'Compound:CID46199207', 'Compound:CID24180125', 'Compound:NO_ONTOLOGY~Repligen 136', 'Compound:NO_ONTOLOGY~BRD-K58730230', 'Compound:CID25183872', 'Compound:CID132971', 'Compound:CID5460769', 'Compound:CID17755052', 'Compound:CID16659841', 'Compound:CID5328940', 'Compound:CID11222830', 'Compound:CID49836020', 'Compound:CID442972', 'Compound:CID159324', 'Compound:CID52947716', 'Compound:NO_ONTOLOGY~QW-BI-011', 'Compound:CID11485656', 'Compound:CID6914657', 'Compound:CID9952773', 'Compound:NO_ONTOLOGY~BRD-K02492147', 'Compound:NO_ONTOLOGY~BRD-K19103580', 'Compound:NO_ONTOLOGY~BRD-K55473186', 'Compound:CID9933475', 'Compound:CID568763', 'Compound:CID2729026', 'Compound:CID25262965', 'Compound:NO_ONTOLOGY~JQ-1', 'Compound:CID579114', 'Compound:CID46843772', 'Compound:CID135999136', 'Compound:CID2733489', 'Compound:NO_ONTOLOGY~BRD-K88742110', 'Compound:NO_ONTOLOGY~BRD-K70511574', 'Compound:CID560326', 'Compound:CID4578', 'Compound:CID51039095', 'Compound:CID5335621', 'Compound:CID11373846', 'Compound:CID44355218', 'Compound:CID24360', 'Compound:CHEMBL1201577', 'Compound:CID16038120', 'Compound:CID118753633', 'Compound:CID11175137', 'Compound:CID11625818', 'Compound:CID57339144', 'Compound:CID9866186', 'Compound:NO_ONTOLOGY~QL-XII-47', 'Compound:NO_ONTOLOGY~pitstop2', 'Compound:CID44462760', 'Compound:CID25022668', 'Compound:NO_ONTOLOGY~681640', 'Compound:CHEMBL197603', 'Compound:CID11964036', 'Compound:CID2746', 'Compound:CID10172943', 'Compound:CID46883536', 'Compound:CID11338033', 'Compound:NO_ONTOLOGY~VNLG/124', 'Compound:CID11784504', 'Compound:CHEMBL401930', 'Compound:CID447912', 'Compound:CID984170', 'Compound:CID12001922', 'Compound:CID2314623', 'Compound:CHEMBL1242367', 'Compound:CID644215', 'Compound:CID441298', 'Compound:CHEMBL2068237', 'Compound:NO_ONTOLOGY~CMK', 'Compound:CID44551660', 'Compound:CID24756910', 'Compound:CID6253', 'Compound:CID9938202']\n"
     ]
    }
   ],
   "source": [
    "project=\"Project:DepMap_Breast_Cancer\"\n",
    "print(list(g.query().V(project).in_(\"InProject\").in_(\"SampleFor\").in_(\"AliquotFor\").in_(\"ResponseIn\").out(\"ResponseTo\").distinct(\"$._gid\").render(\"$._gid\")))"
   ]
  },
  {
   "cell_type": "code",
   "execution_count": 25,
   "metadata": {},
   "outputs": [
    {
     "name": "stderr",
     "output_type": "stream",
     "text": [
      "[INFO]\t2019-02-23 00:28:20,340\t1 results received in 0 seconds\n"
     ]
    },
    {
     "name": "stdout",
     "output_type": "stream",
     "text": [
      "[<AttrDict({'count': 119})>]\n"
     ]
    }
   ],
   "source": [
    "compound=\"Compound:NO_ONTOLOGY~BRD-K01737880\"\n",
    "q = g.query().V(compound).in_(\"ResponseTo\").as_(\"response\").out(\"ResponseIn\").out(\"AliquotFor\").out(\"SampleFor\").as_(\"case\").select([\"case\", \"response\"])\n",
    "\n",
    "print(list(q.count()))"
   ]
  },
  {
   "cell_type": "code",
   "execution_count": 24,
   "metadata": {},
   "outputs": [
    {
     "name": "stderr",
     "output_type": "stream",
     "text": [
      "[INFO]\t2019-02-23 00:26:55,682\t1 results received in 0 seconds\n"
     ]
    },
    {
     "name": "stdout",
     "output_type": "stream",
     "text": [
      "[<AttrDict({'gid': 'Compound:CID5494449', 'label': 'Compound', 'data': {'name': 'Tozasertib', 'term': 'TOZASERTIB', 'term_id': 'CID5494449'}})>]\n"
     ]
    }
   ],
   "source": [
    "q = g.query().V(\"Case:ACH-000148\").in_(\"SampleFor\").in_(\"AliquotFor\").in_(\"ResponseIn\")\n",
    "q = q.out(\"ResponseTo\")\n",
    "q = q.has(gripql.eq(\"_gid\", \"Compound:CID5494449\"))\n",
    "\n",
    "print(list(q))"
   ]
  },
  {
   "cell_type": "code",
   "execution_count": 37,
   "metadata": {},
   "outputs": [
    {
     "name": "stderr",
     "output_type": "stream",
     "text": [
      "[INFO]\t2019-02-23 00:33:35,103\t5 results received in 0 seconds\n"
     ]
    },
    {
     "name": "stdout",
     "output_type": "stream",
     "text": [
      "[<AttrDict({'gid': 'Case:ACH-000934', 'label': 'Case', 'data': {'case_id': 'ACH-000934', 'ccle_attributes': {'gender': 'Female'}}})>, <AttrDict({'gid': 'Case:ACH-000147', 'label': 'Case', 'data': {'case_id': 'ACH-000147', 'ccle_attributes': {'gender': 'Female'}}})>, <AttrDict({'gid': 'Case:ACH-000927', 'label': 'Case', 'data': {'case_id': 'ACH-000927', 'ccle_attributes': {'gender': 'Female'}}})>, <AttrDict({'gid': 'Case:ACH-000755', 'label': 'Case', 'data': {'case_id': 'ACH-000755', 'ccle_attributes': {'gender': 'Female'}}})>, <AttrDict({'gid': 'Case:ACH-000910', 'label': 'Case', 'data': {'case_id': 'ACH-000910', 'ccle_attributes': {'gender': 'Female'}}})>]\n"
     ]
    }
   ],
   "source": [
    "compound=\"Compound:NO_ONTOLOGY~BRD-K01737880\"\n",
    "q = g.query().V(compound).in_(\"ResponseTo\").as_(\"response\").out(\"ResponseIn\").out(\"AliquotFor\").out(\"SampleFor\").as_(\"case\")\n",
    "q = q.out(\"InProject\").has(gripql.eq(\"_gid\", \"Project:DepMap_Breast_Cancer\"))\n",
    "q = q.select(\"case\")\n",
    "\n",
    "print(list(q))"
   ]
  },
  {
   "cell_type": "code",
   "execution_count": null,
   "metadata": {},
   "outputs": [],
   "source": []
  }
 ],
 "metadata": {
  "kernelspec": {
   "display_name": "Python 3",
   "language": "python",
   "name": "python3"
  },
  "language_info": {
   "codemirror_mode": {
    "name": "ipython",
    "version": 3
   },
   "file_extension": ".py",
   "mimetype": "text/x-python",
   "name": "python",
   "nbconvert_exporter": "python",
   "pygments_lexer": "ipython3",
   "version": "3.6.8"
  }
 },
 "nbformat": 4,
 "nbformat_minor": 2
}
