{
 "cells": [
  {
   "cell_type": "code",
   "execution_count": 52,
   "metadata": {},
   "outputs": [],
   "source": [
    "import pandas\n",
    "import matplotlib.pyplot as plt\n",
    "import numpy as np\n",
    "import synapseclient"
   ]
  },
  {
   "cell_type": "code",
   "execution_count": 22,
   "metadata": {},
   "outputs": [],
   "source": [
    "df = pandas.read_csv(\"isoform_leaderboard_20170522.tsv\", sep=\"\\t\", index_col=0)"
   ]
  },
  {
   "cell_type": "code",
   "execution_count": 26,
   "metadata": {},
   "outputs": [],
   "source": [
    "scoreCols = df.columns.to_series().filter(regex=r'[0-9]_pearson')"
   ]
  },
  {
   "cell_type": "code",
   "execution_count": 45,
   "metadata": {},
   "outputs": [],
   "source": [
    "scoreRows = df[scoreCols].isnull().sum(axis=1) == 0"
   ]
  },
  {
   "cell_type": "code",
   "execution_count": 49,
   "metadata": {},
   "outputs": [],
   "source": [
    "scoreDF = df[scoreCols][scoreRows]"
   ]
  },
  {
   "cell_type": "code",
   "execution_count": 87,
   "metadata": {},
   "outputs": [
    {
     "data": {
      "text/plain": [
       "<BarContainer object of 31 artists>"
      ]
     },
     "execution_count": 87,
     "metadata": {},
     "output_type": "execute_result"
    },
    {
     "data": {
      "image/png": "[encoded data removed]",
      "text/plain": [
       "<Figure size 432x288 with 1 Axes>"
      ]
     },
     "metadata": {},
     "output_type": "display_data"
    }
   ],
   "source": [
    "plt.bar(np.arange(scoreDF.shape[0]), scoreDF.mean(axis=1).sort_values())"
   ]
  },
  {
   "cell_type": "code",
   "execution_count": 56,
   "metadata": {},
   "outputs": [
    {
     "data": {
      "text/plain": [
       "32"
      ]
     },
     "execution_count": 56,
     "metadata": {},
     "output_type": "execute_result"
    }
   ],
   "source": [
    "len(scoreRows)"
   ]
  },
  {
   "cell_type": "code",
   "execution_count": 61,
   "metadata": {},
   "outputs": [
    {
     "data": {
      "text/plain": [
       "20"
      ]
     },
     "execution_count": 61,
     "metadata": {},
     "output_type": "execute_result"
    }
   ],
   "source": [
    "scoreDF.shape[1]"
   ]
  },
  {
   "cell_type": "code",
   "execution_count": 63,
   "metadata": {},
   "outputs": [
    {
     "name": "stdout",
     "output_type": "stream",
     "text": [
      "Welcome, Kyle Ellrott!\n",
      "\n"
     ]
    }
   ],
   "source": [
    "syn = synapseclient.login()"
   ]
  },
  {
   "cell_type": "code",
   "execution_count": 79,
   "metadata": {},
   "outputs": [],
   "source": [
    "t = syn.tableQuery(\"select * from syn18145401\").asDataFrame()\n",
    "finalDF = t.set_index(t[\"Group\"])"
   ]
  },
  {
   "cell_type": "code",
   "execution_count": 85,
   "metadata": {},
   "outputs": [
    {
     "data": {
      "text/plain": [
       "<BarContainer object of 16 artists>"
      ]
     },
     "execution_count": 85,
     "metadata": {},
     "output_type": "execute_result"
    },
    {
     "data": {
      "image/png": "[encoded data removed]",
      "text/plain": [
       "<Figure size 432x288 with 1 Axes>"
      ]
     },
     "metadata": {},
     "output_type": "display_data"
    }
   ],
   "source": [
    "plt.bar( np.arange(len(finalDF[\"Mean_Tau_B\"])), finalDF[\"Mean_Tau_B\"] )"
   ]
  },
  {
   "cell_type": "code",
   "execution_count": 90,
   "metadata": {},
   "outputs": [],
   "source": [
    "subSel = finalDF.index.intersection( scoreDF.index )"
   ]
  },
  {
   "cell_type": "code",
   "execution_count": 103,
   "metadata": {},
   "outputs": [],
   "source": [
    "subOrder = finalDF[\"Mean_Tau_B\"][subSel].sort_values().index"
   ]
  },
  {
   "cell_type": "code",
   "execution_count": 104,
   "metadata": {},
   "outputs": [
    {
     "data": {
      "text/plain": [
       "[]"
      ]
     },
     "execution_count": 104,
     "metadata": {},
     "output_type": "execute_result"
    },
    {
     "data": {
      "image/png": "[encoded data removed]",
      "text/plain": [
       "<Figure size 720x504 with 1 Axes>"
      ]
     },
     "metadata": {},
     "output_type": "display_data"
    }
   ],
   "source": [
    "#plt.figure(figsize=(6,8))\n",
    "ind = np.arange(len(subOrder)) \n",
    "width = 0.3\n",
    "fig, ax = plt.subplots(figsize=(10,7))\n",
    "p1 = ax.bar(ind - width, scoreDF.mean(axis=1)[subOrder], width, label=\"Synthetic\")\n",
    "p2 = ax.bar(ind , finalDF[\"Mean_Tau_B\"][subOrder], width, label=\"Spikeins\")\n",
    "plt.legend()\n",
    "ax.set_xticks(ind)\n",
    "ax.set_xticklabels(subSel, rotation=20)\n",
    "plt.plot()"
   ]
  },
  {
   "cell_type": "code",
   "execution_count": null,
   "metadata": {},
   "outputs": [],
   "source": [
    "methods = {\n",
    "    7141463\tNA\n",
    "7150823\tkallisto\n",
    "7150898\tkallisto\n",
    "7185755\trsem\n",
    "7217266\thera\n",
    "7217268\thera\n",
    "7217274\thera\n",
    "7221538\thera\n",
    "7221586\thera\n",
    "7348543\thera\n",
    "7348564\thera\n",
    "7351104\thera\n",
    "7352612\thera\n",
    "7353450\thera\n",
    "7355484\thera\n",
    "7358038\thera\n",
    "7363252\thera\n",
    "7367548\thera\n",
    "7899344\thera\n",
    "7899426\thera\n",
    "8023084\trsem\n",
    "8052898\tkallisto\n",
    "8057844\tkallisto\n",
    "8064391\thera\n",
    "8066038\thera\n",
    "8277921\trsem\n",
    "8277922\trsem\n",
    "8289451\tkallisto\n",
    "8289452\tkallisto\n",
    "8294423\tkallisto\n",
    "8294427\tkallisto\n",
    "8294430\tkallisto\n",
    "8399815\tkallisto\n",
    "8473425\tsalmon\n",
    "8555063\tkallisto\n",
    "8555064\tkallisto\n",
    "8639678\trsem\n",
    "8639697\trsem\n",
    "8639700\trsem\n",
    "8639902\tkallisto\n",
    "8649616\tkallisto\n",
    "8693872\tGSnap\n",
    "8693880\tGSnap\n",
    "9603571\tkallisto\n",
    "9603573\texpress\n",
    "9603865\tkallisto\n",
    "9604399\texpress\n",
    "9604426\tsalmon\n",
    "9605357\trsem\n",
    "9605360\tcufflinks\n",
    "9607675\thera\n",
    "9608592\tthucmi\n",
    "9608599\tbowtie2\n",
    "9608684\tbowtie2\n",
    "9608941\tbowtie2\n",
    "9609145\thera\n",
    "9609496\trsem\n",
    "9609497\trsem\n",
    "9609501\thera\n",
    "9609594\tkallisto\n",
    "9609644\tkallisto\n",
    "9610018\tGSnap\n",
    "9610020\tGSnap\n",
    "9610378\tfluxcapacitor\n",
    "9614357\tGSnap"
   ]
  }
 ],
 "metadata": {
  "kernelspec": {
   "display_name": "Python 3",
   "language": "python",
   "name": "python3"
  },
  "language_info": {
   "codemirror_mode": {
    "name": "ipython",
    "version": 3
   },
   "file_extension": ".py",
   "mimetype": "text/x-python",
   "name": "python",
   "nbconvert_exporter": "python",
   "pygments_lexer": "ipython3",
   "version": "3.6.7"
  }
 },
 "nbformat": 4,
 "nbformat_minor": 2
}
